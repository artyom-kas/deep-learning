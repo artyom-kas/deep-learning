{
  "nbformat": 4,
  "nbformat_minor": 0,
  "metadata": {
    "accelerator": "GPU",
    "colab": {
      "name": "sem04_task.ipynb",
      "provenance": [],
      "collapsed_sections": [],
      "toc_visible": true
    },
    "kernelspec": {
      "display_name": "Python 3",
      "language": "python",
      "name": "python3"
    },
    "language_info": {
      "codemirror_mode": {
        "name": "ipython",
        "version": 3
      },
      "file_extension": ".py",
      "mimetype": "text/x-python",
      "name": "python",
      "nbconvert_exporter": "python",
      "pygments_lexer": "ipython3",
      "version": "3.7.7"
    },
    "widgets": {
      "application/vnd.jupyter.widget-state+json": {
        "54b2f0957f3646e8aa414f0a2c421408": {
          "model_module": "@jupyter-widgets/controls",
          "model_name": "HBoxModel",
          "state": {
            "_view_name": "HBoxView",
            "_dom_classes": [],
            "_model_name": "HBoxModel",
            "_view_module": "@jupyter-widgets/controls",
            "_model_module_version": "1.5.0",
            "_view_count": null,
            "_view_module_version": "1.5.0",
            "box_style": "",
            "layout": "IPY_MODEL_f2ae5355f9124182bb5a083a50a71340",
            "_model_module": "@jupyter-widgets/controls",
            "children": [
              "IPY_MODEL_9e6a6f6816d94beb9d7c416e79692186",
              "IPY_MODEL_f1f1fe73e82b4a818e45643658b0363f"
            ]
          }
        },
        "f2ae5355f9124182bb5a083a50a71340": {
          "model_module": "@jupyter-widgets/base",
          "model_name": "LayoutModel",
          "state": {
            "_view_name": "LayoutView",
            "grid_template_rows": null,
            "right": null,
            "justify_content": null,
            "_view_module": "@jupyter-widgets/base",
            "overflow": null,
            "_model_module_version": "1.2.0",
            "_view_count": null,
            "flex_flow": null,
            "width": null,
            "min_width": null,
            "border": null,
            "align_items": null,
            "bottom": null,
            "_model_module": "@jupyter-widgets/base",
            "top": null,
            "grid_column": null,
            "overflow_y": null,
            "overflow_x": null,
            "grid_auto_flow": null,
            "grid_area": null,
            "grid_template_columns": null,
            "flex": null,
            "_model_name": "LayoutModel",
            "justify_items": null,
            "grid_row": null,
            "max_height": null,
            "align_content": null,
            "visibility": null,
            "align_self": null,
            "height": null,
            "min_height": null,
            "padding": null,
            "grid_auto_rows": null,
            "grid_gap": null,
            "max_width": null,
            "order": null,
            "_view_module_version": "1.2.0",
            "grid_template_areas": null,
            "object_position": null,
            "object_fit": null,
            "grid_auto_columns": null,
            "margin": null,
            "display": null,
            "left": null
          }
        },
        "9e6a6f6816d94beb9d7c416e79692186": {
          "model_module": "@jupyter-widgets/controls",
          "model_name": "FloatProgressModel",
          "state": {
            "_view_name": "ProgressView",
            "style": "IPY_MODEL_736f6f20a6ba44e9892472bc6c8b49a2",
            "_dom_classes": [],
            "description": "",
            "_model_name": "FloatProgressModel",
            "bar_style": "info",
            "max": 1,
            "_view_module": "@jupyter-widgets/controls",
            "_model_module_version": "1.5.0",
            "value": 1,
            "_view_count": null,
            "_view_module_version": "1.5.0",
            "orientation": "horizontal",
            "min": 0,
            "description_tooltip": null,
            "_model_module": "@jupyter-widgets/controls",
            "layout": "IPY_MODEL_051694d209784787ac586a1aaf579b50"
          }
        },
        "f1f1fe73e82b4a818e45643658b0363f": {
          "model_module": "@jupyter-widgets/controls",
          "model_name": "HTMLModel",
          "state": {
            "_view_name": "HTMLView",
            "style": "IPY_MODEL_d77a3e00f59d438aa4f47ac37f5d6a21",
            "_dom_classes": [],
            "description": "",
            "_model_name": "HTMLModel",
            "placeholder": "​",
            "_view_module": "@jupyter-widgets/controls",
            "_model_module_version": "1.5.0",
            "value": " 26427392/? [00:20&lt;00:00, 79314087.63it/s]",
            "_view_count": null,
            "_view_module_version": "1.5.0",
            "description_tooltip": null,
            "_model_module": "@jupyter-widgets/controls",
            "layout": "IPY_MODEL_14eb69acd93c46bfbb2e6d5f19d2ccf1"
          }
        },
        "736f6f20a6ba44e9892472bc6c8b49a2": {
          "model_module": "@jupyter-widgets/controls",
          "model_name": "ProgressStyleModel",
          "state": {
            "_view_name": "StyleView",
            "_model_name": "ProgressStyleModel",
            "description_width": "initial",
            "_view_module": "@jupyter-widgets/base",
            "_model_module_version": "1.5.0",
            "_view_count": null,
            "_view_module_version": "1.2.0",
            "bar_color": null,
            "_model_module": "@jupyter-widgets/controls"
          }
        },
        "051694d209784787ac586a1aaf579b50": {
          "model_module": "@jupyter-widgets/base",
          "model_name": "LayoutModel",
          "state": {
            "_view_name": "LayoutView",
            "grid_template_rows": null,
            "right": null,
            "justify_content": null,
            "_view_module": "@jupyter-widgets/base",
            "overflow": null,
            "_model_module_version": "1.2.0",
            "_view_count": null,
            "flex_flow": null,
            "width": null,
            "min_width": null,
            "border": null,
            "align_items": null,
            "bottom": null,
            "_model_module": "@jupyter-widgets/base",
            "top": null,
            "grid_column": null,
            "overflow_y": null,
            "overflow_x": null,
            "grid_auto_flow": null,
            "grid_area": null,
            "grid_template_columns": null,
            "flex": null,
            "_model_name": "LayoutModel",
            "justify_items": null,
            "grid_row": null,
            "max_height": null,
            "align_content": null,
            "visibility": null,
            "align_self": null,
            "height": null,
            "min_height": null,
            "padding": null,
            "grid_auto_rows": null,
            "grid_gap": null,
            "max_width": null,
            "order": null,
            "_view_module_version": "1.2.0",
            "grid_template_areas": null,
            "object_position": null,
            "object_fit": null,
            "grid_auto_columns": null,
            "margin": null,
            "display": null,
            "left": null
          }
        },
        "d77a3e00f59d438aa4f47ac37f5d6a21": {
          "model_module": "@jupyter-widgets/controls",
          "model_name": "DescriptionStyleModel",
          "state": {
            "_view_name": "StyleView",
            "_model_name": "DescriptionStyleModel",
            "description_width": "",
            "_view_module": "@jupyter-widgets/base",
            "_model_module_version": "1.5.0",
            "_view_count": null,
            "_view_module_version": "1.2.0",
            "_model_module": "@jupyter-widgets/controls"
          }
        },
        "14eb69acd93c46bfbb2e6d5f19d2ccf1": {
          "model_module": "@jupyter-widgets/base",
          "model_name": "LayoutModel",
          "state": {
            "_view_name": "LayoutView",
            "grid_template_rows": null,
            "right": null,
            "justify_content": null,
            "_view_module": "@jupyter-widgets/base",
            "overflow": null,
            "_model_module_version": "1.2.0",
            "_view_count": null,
            "flex_flow": null,
            "width": null,
            "min_width": null,
            "border": null,
            "align_items": null,
            "bottom": null,
            "_model_module": "@jupyter-widgets/base",
            "top": null,
            "grid_column": null,
            "overflow_y": null,
            "overflow_x": null,
            "grid_auto_flow": null,
            "grid_area": null,
            "grid_template_columns": null,
            "flex": null,
            "_model_name": "LayoutModel",
            "justify_items": null,
            "grid_row": null,
            "max_height": null,
            "align_content": null,
            "visibility": null,
            "align_self": null,
            "height": null,
            "min_height": null,
            "padding": null,
            "grid_auto_rows": null,
            "grid_gap": null,
            "max_width": null,
            "order": null,
            "_view_module_version": "1.2.0",
            "grid_template_areas": null,
            "object_position": null,
            "object_fit": null,
            "grid_auto_columns": null,
            "margin": null,
            "display": null,
            "left": null
          }
        },
        "5645dceff19742808110277dd92cab0d": {
          "model_module": "@jupyter-widgets/controls",
          "model_name": "HBoxModel",
          "state": {
            "_view_name": "HBoxView",
            "_dom_classes": [],
            "_model_name": "HBoxModel",
            "_view_module": "@jupyter-widgets/controls",
            "_model_module_version": "1.5.0",
            "_view_count": null,
            "_view_module_version": "1.5.0",
            "box_style": "",
            "layout": "IPY_MODEL_c8f6f92b92cd4c98a4344b0c318e47b2",
            "_model_module": "@jupyter-widgets/controls",
            "children": [
              "IPY_MODEL_5ff2448689c547eaba718cbd5562afaa",
              "IPY_MODEL_dc9f6983330a4ad6b44cab3409226202"
            ]
          }
        },
        "c8f6f92b92cd4c98a4344b0c318e47b2": {
          "model_module": "@jupyter-widgets/base",
          "model_name": "LayoutModel",
          "state": {
            "_view_name": "LayoutView",
            "grid_template_rows": null,
            "right": null,
            "justify_content": null,
            "_view_module": "@jupyter-widgets/base",
            "overflow": null,
            "_model_module_version": "1.2.0",
            "_view_count": null,
            "flex_flow": null,
            "width": null,
            "min_width": null,
            "border": null,
            "align_items": null,
            "bottom": null,
            "_model_module": "@jupyter-widgets/base",
            "top": null,
            "grid_column": null,
            "overflow_y": null,
            "overflow_x": null,
            "grid_auto_flow": null,
            "grid_area": null,
            "grid_template_columns": null,
            "flex": null,
            "_model_name": "LayoutModel",
            "justify_items": null,
            "grid_row": null,
            "max_height": null,
            "align_content": null,
            "visibility": null,
            "align_self": null,
            "height": null,
            "min_height": null,
            "padding": null,
            "grid_auto_rows": null,
            "grid_gap": null,
            "max_width": null,
            "order": null,
            "_view_module_version": "1.2.0",
            "grid_template_areas": null,
            "object_position": null,
            "object_fit": null,
            "grid_auto_columns": null,
            "margin": null,
            "display": null,
            "left": null
          }
        },
        "5ff2448689c547eaba718cbd5562afaa": {
          "model_module": "@jupyter-widgets/controls",
          "model_name": "FloatProgressModel",
          "state": {
            "_view_name": "ProgressView",
            "style": "IPY_MODEL_ec4b208eb51945ab8596598d47b435a7",
            "_dom_classes": [],
            "description": "",
            "_model_name": "FloatProgressModel",
            "bar_style": "success",
            "max": 1,
            "_view_module": "@jupyter-widgets/controls",
            "_model_module_version": "1.5.0",
            "value": 1,
            "_view_count": null,
            "_view_module_version": "1.5.0",
            "orientation": "horizontal",
            "min": 0,
            "description_tooltip": null,
            "_model_module": "@jupyter-widgets/controls",
            "layout": "IPY_MODEL_199b67b03f9046238d7c5a85b4d2aa75"
          }
        },
        "dc9f6983330a4ad6b44cab3409226202": {
          "model_module": "@jupyter-widgets/controls",
          "model_name": "HTMLModel",
          "state": {
            "_view_name": "HTMLView",
            "style": "IPY_MODEL_d59013cf37d946afa0a735ad94eb8f24",
            "_dom_classes": [],
            "description": "",
            "_model_name": "HTMLModel",
            "placeholder": "​",
            "_view_module": "@jupyter-widgets/controls",
            "_model_module_version": "1.5.0",
            "value": " 32768/? [00:00&lt;00:00, 100684.85it/s]",
            "_view_count": null,
            "_view_module_version": "1.5.0",
            "description_tooltip": null,
            "_model_module": "@jupyter-widgets/controls",
            "layout": "IPY_MODEL_2504bdaa71324a2d854c6574f81aaf8d"
          }
        },
        "ec4b208eb51945ab8596598d47b435a7": {
          "model_module": "@jupyter-widgets/controls",
          "model_name": "ProgressStyleModel",
          "state": {
            "_view_name": "StyleView",
            "_model_name": "ProgressStyleModel",
            "description_width": "initial",
            "_view_module": "@jupyter-widgets/base",
            "_model_module_version": "1.5.0",
            "_view_count": null,
            "_view_module_version": "1.2.0",
            "bar_color": null,
            "_model_module": "@jupyter-widgets/controls"
          }
        },
        "199b67b03f9046238d7c5a85b4d2aa75": {
          "model_module": "@jupyter-widgets/base",
          "model_name": "LayoutModel",
          "state": {
            "_view_name": "LayoutView",
            "grid_template_rows": null,
            "right": null,
            "justify_content": null,
            "_view_module": "@jupyter-widgets/base",
            "overflow": null,
            "_model_module_version": "1.2.0",
            "_view_count": null,
            "flex_flow": null,
            "width": null,
            "min_width": null,
            "border": null,
            "align_items": null,
            "bottom": null,
            "_model_module": "@jupyter-widgets/base",
            "top": null,
            "grid_column": null,
            "overflow_y": null,
            "overflow_x": null,
            "grid_auto_flow": null,
            "grid_area": null,
            "grid_template_columns": null,
            "flex": null,
            "_model_name": "LayoutModel",
            "justify_items": null,
            "grid_row": null,
            "max_height": null,
            "align_content": null,
            "visibility": null,
            "align_self": null,
            "height": null,
            "min_height": null,
            "padding": null,
            "grid_auto_rows": null,
            "grid_gap": null,
            "max_width": null,
            "order": null,
            "_view_module_version": "1.2.0",
            "grid_template_areas": null,
            "object_position": null,
            "object_fit": null,
            "grid_auto_columns": null,
            "margin": null,
            "display": null,
            "left": null
          }
        },
        "d59013cf37d946afa0a735ad94eb8f24": {
          "model_module": "@jupyter-widgets/controls",
          "model_name": "DescriptionStyleModel",
          "state": {
            "_view_name": "StyleView",
            "_model_name": "DescriptionStyleModel",
            "description_width": "",
            "_view_module": "@jupyter-widgets/base",
            "_model_module_version": "1.5.0",
            "_view_count": null,
            "_view_module_version": "1.2.0",
            "_model_module": "@jupyter-widgets/controls"
          }
        },
        "2504bdaa71324a2d854c6574f81aaf8d": {
          "model_module": "@jupyter-widgets/base",
          "model_name": "LayoutModel",
          "state": {
            "_view_name": "LayoutView",
            "grid_template_rows": null,
            "right": null,
            "justify_content": null,
            "_view_module": "@jupyter-widgets/base",
            "overflow": null,
            "_model_module_version": "1.2.0",
            "_view_count": null,
            "flex_flow": null,
            "width": null,
            "min_width": null,
            "border": null,
            "align_items": null,
            "bottom": null,
            "_model_module": "@jupyter-widgets/base",
            "top": null,
            "grid_column": null,
            "overflow_y": null,
            "overflow_x": null,
            "grid_auto_flow": null,
            "grid_area": null,
            "grid_template_columns": null,
            "flex": null,
            "_model_name": "LayoutModel",
            "justify_items": null,
            "grid_row": null,
            "max_height": null,
            "align_content": null,
            "visibility": null,
            "align_self": null,
            "height": null,
            "min_height": null,
            "padding": null,
            "grid_auto_rows": null,
            "grid_gap": null,
            "max_width": null,
            "order": null,
            "_view_module_version": "1.2.0",
            "grid_template_areas": null,
            "object_position": null,
            "object_fit": null,
            "grid_auto_columns": null,
            "margin": null,
            "display": null,
            "left": null
          }
        },
        "86aafe50eed942308e643a1deb95e2d2": {
          "model_module": "@jupyter-widgets/controls",
          "model_name": "HBoxModel",
          "state": {
            "_view_name": "HBoxView",
            "_dom_classes": [],
            "_model_name": "HBoxModel",
            "_view_module": "@jupyter-widgets/controls",
            "_model_module_version": "1.5.0",
            "_view_count": null,
            "_view_module_version": "1.5.0",
            "box_style": "",
            "layout": "IPY_MODEL_ba7e71c61afa4ae6a337edf7267d138e",
            "_model_module": "@jupyter-widgets/controls",
            "children": [
              "IPY_MODEL_0277332c0bb64d668868687ec01b1286",
              "IPY_MODEL_e85174b51f264743b4ed01ce95a5fffb"
            ]
          }
        },
        "ba7e71c61afa4ae6a337edf7267d138e": {
          "model_module": "@jupyter-widgets/base",
          "model_name": "LayoutModel",
          "state": {
            "_view_name": "LayoutView",
            "grid_template_rows": null,
            "right": null,
            "justify_content": null,
            "_view_module": "@jupyter-widgets/base",
            "overflow": null,
            "_model_module_version": "1.2.0",
            "_view_count": null,
            "flex_flow": null,
            "width": null,
            "min_width": null,
            "border": null,
            "align_items": null,
            "bottom": null,
            "_model_module": "@jupyter-widgets/base",
            "top": null,
            "grid_column": null,
            "overflow_y": null,
            "overflow_x": null,
            "grid_auto_flow": null,
            "grid_area": null,
            "grid_template_columns": null,
            "flex": null,
            "_model_name": "LayoutModel",
            "justify_items": null,
            "grid_row": null,
            "max_height": null,
            "align_content": null,
            "visibility": null,
            "align_self": null,
            "height": null,
            "min_height": null,
            "padding": null,
            "grid_auto_rows": null,
            "grid_gap": null,
            "max_width": null,
            "order": null,
            "_view_module_version": "1.2.0",
            "grid_template_areas": null,
            "object_position": null,
            "object_fit": null,
            "grid_auto_columns": null,
            "margin": null,
            "display": null,
            "left": null
          }
        },
        "0277332c0bb64d668868687ec01b1286": {
          "model_module": "@jupyter-widgets/controls",
          "model_name": "FloatProgressModel",
          "state": {
            "_view_name": "ProgressView",
            "style": "IPY_MODEL_9a6f7d504e7c41a98739d82592efa1d6",
            "_dom_classes": [],
            "description": "",
            "_model_name": "FloatProgressModel",
            "bar_style": "success",
            "max": 1,
            "_view_module": "@jupyter-widgets/controls",
            "_model_module_version": "1.5.0",
            "value": 1,
            "_view_count": null,
            "_view_module_version": "1.5.0",
            "orientation": "horizontal",
            "min": 0,
            "description_tooltip": null,
            "_model_module": "@jupyter-widgets/controls",
            "layout": "IPY_MODEL_e9215ea9370141a9849738b357a65a57"
          }
        },
        "e85174b51f264743b4ed01ce95a5fffb": {
          "model_module": "@jupyter-widgets/controls",
          "model_name": "HTMLModel",
          "state": {
            "_view_name": "HTMLView",
            "style": "IPY_MODEL_187e799a9cce480fb97c432aeab2a6d6",
            "_dom_classes": [],
            "description": "",
            "_model_name": "HTMLModel",
            "placeholder": "​",
            "_view_module": "@jupyter-widgets/controls",
            "_model_module_version": "1.5.0",
            "value": " 4423680/? [00:00&lt;00:00, 18264456.59it/s]",
            "_view_count": null,
            "_view_module_version": "1.5.0",
            "description_tooltip": null,
            "_model_module": "@jupyter-widgets/controls",
            "layout": "IPY_MODEL_59adb45e3f6d44c3b816acffb88684ec"
          }
        },
        "9a6f7d504e7c41a98739d82592efa1d6": {
          "model_module": "@jupyter-widgets/controls",
          "model_name": "ProgressStyleModel",
          "state": {
            "_view_name": "StyleView",
            "_model_name": "ProgressStyleModel",
            "description_width": "initial",
            "_view_module": "@jupyter-widgets/base",
            "_model_module_version": "1.5.0",
            "_view_count": null,
            "_view_module_version": "1.2.0",
            "bar_color": null,
            "_model_module": "@jupyter-widgets/controls"
          }
        },
        "e9215ea9370141a9849738b357a65a57": {
          "model_module": "@jupyter-widgets/base",
          "model_name": "LayoutModel",
          "state": {
            "_view_name": "LayoutView",
            "grid_template_rows": null,
            "right": null,
            "justify_content": null,
            "_view_module": "@jupyter-widgets/base",
            "overflow": null,
            "_model_module_version": "1.2.0",
            "_view_count": null,
            "flex_flow": null,
            "width": null,
            "min_width": null,
            "border": null,
            "align_items": null,
            "bottom": null,
            "_model_module": "@jupyter-widgets/base",
            "top": null,
            "grid_column": null,
            "overflow_y": null,
            "overflow_x": null,
            "grid_auto_flow": null,
            "grid_area": null,
            "grid_template_columns": null,
            "flex": null,
            "_model_name": "LayoutModel",
            "justify_items": null,
            "grid_row": null,
            "max_height": null,
            "align_content": null,
            "visibility": null,
            "align_self": null,
            "height": null,
            "min_height": null,
            "padding": null,
            "grid_auto_rows": null,
            "grid_gap": null,
            "max_width": null,
            "order": null,
            "_view_module_version": "1.2.0",
            "grid_template_areas": null,
            "object_position": null,
            "object_fit": null,
            "grid_auto_columns": null,
            "margin": null,
            "display": null,
            "left": null
          }
        },
        "187e799a9cce480fb97c432aeab2a6d6": {
          "model_module": "@jupyter-widgets/controls",
          "model_name": "DescriptionStyleModel",
          "state": {
            "_view_name": "StyleView",
            "_model_name": "DescriptionStyleModel",
            "description_width": "",
            "_view_module": "@jupyter-widgets/base",
            "_model_module_version": "1.5.0",
            "_view_count": null,
            "_view_module_version": "1.2.0",
            "_model_module": "@jupyter-widgets/controls"
          }
        },
        "59adb45e3f6d44c3b816acffb88684ec": {
          "model_module": "@jupyter-widgets/base",
          "model_name": "LayoutModel",
          "state": {
            "_view_name": "LayoutView",
            "grid_template_rows": null,
            "right": null,
            "justify_content": null,
            "_view_module": "@jupyter-widgets/base",
            "overflow": null,
            "_model_module_version": "1.2.0",
            "_view_count": null,
            "flex_flow": null,
            "width": null,
            "min_width": null,
            "border": null,
            "align_items": null,
            "bottom": null,
            "_model_module": "@jupyter-widgets/base",
            "top": null,
            "grid_column": null,
            "overflow_y": null,
            "overflow_x": null,
            "grid_auto_flow": null,
            "grid_area": null,
            "grid_template_columns": null,
            "flex": null,
            "_model_name": "LayoutModel",
            "justify_items": null,
            "grid_row": null,
            "max_height": null,
            "align_content": null,
            "visibility": null,
            "align_self": null,
            "height": null,
            "min_height": null,
            "padding": null,
            "grid_auto_rows": null,
            "grid_gap": null,
            "max_width": null,
            "order": null,
            "_view_module_version": "1.2.0",
            "grid_template_areas": null,
            "object_position": null,
            "object_fit": null,
            "grid_auto_columns": null,
            "margin": null,
            "display": null,
            "left": null
          }
        },
        "2ac300153c1a4fbf84920d6633de82dd": {
          "model_module": "@jupyter-widgets/controls",
          "model_name": "HBoxModel",
          "state": {
            "_view_name": "HBoxView",
            "_dom_classes": [],
            "_model_name": "HBoxModel",
            "_view_module": "@jupyter-widgets/controls",
            "_model_module_version": "1.5.0",
            "_view_count": null,
            "_view_module_version": "1.5.0",
            "box_style": "",
            "layout": "IPY_MODEL_43e2b0b8b2434b1d878c0b742a33ec79",
            "_model_module": "@jupyter-widgets/controls",
            "children": [
              "IPY_MODEL_3e6f702758394cfd9a839d840df5732d",
              "IPY_MODEL_953135a636d044b18badd758889a8443"
            ]
          }
        },
        "43e2b0b8b2434b1d878c0b742a33ec79": {
          "model_module": "@jupyter-widgets/base",
          "model_name": "LayoutModel",
          "state": {
            "_view_name": "LayoutView",
            "grid_template_rows": null,
            "right": null,
            "justify_content": null,
            "_view_module": "@jupyter-widgets/base",
            "overflow": null,
            "_model_module_version": "1.2.0",
            "_view_count": null,
            "flex_flow": null,
            "width": null,
            "min_width": null,
            "border": null,
            "align_items": null,
            "bottom": null,
            "_model_module": "@jupyter-widgets/base",
            "top": null,
            "grid_column": null,
            "overflow_y": null,
            "overflow_x": null,
            "grid_auto_flow": null,
            "grid_area": null,
            "grid_template_columns": null,
            "flex": null,
            "_model_name": "LayoutModel",
            "justify_items": null,
            "grid_row": null,
            "max_height": null,
            "align_content": null,
            "visibility": null,
            "align_self": null,
            "height": null,
            "min_height": null,
            "padding": null,
            "grid_auto_rows": null,
            "grid_gap": null,
            "max_width": null,
            "order": null,
            "_view_module_version": "1.2.0",
            "grid_template_areas": null,
            "object_position": null,
            "object_fit": null,
            "grid_auto_columns": null,
            "margin": null,
            "display": null,
            "left": null
          }
        },
        "3e6f702758394cfd9a839d840df5732d": {
          "model_module": "@jupyter-widgets/controls",
          "model_name": "FloatProgressModel",
          "state": {
            "_view_name": "ProgressView",
            "style": "IPY_MODEL_9425e7d0bfd7473e9a9631dfd407504e",
            "_dom_classes": [],
            "description": "  0%",
            "_model_name": "FloatProgressModel",
            "bar_style": "info",
            "max": 1,
            "_view_module": "@jupyter-widgets/controls",
            "_model_module_version": "1.5.0",
            "value": 0,
            "_view_count": null,
            "_view_module_version": "1.5.0",
            "orientation": "horizontal",
            "min": 0,
            "description_tooltip": null,
            "_model_module": "@jupyter-widgets/controls",
            "layout": "IPY_MODEL_c89bd1673e2146a68d68d6d5b5eb5fa8"
          }
        },
        "953135a636d044b18badd758889a8443": {
          "model_module": "@jupyter-widgets/controls",
          "model_name": "HTMLModel",
          "state": {
            "_view_name": "HTMLView",
            "style": "IPY_MODEL_5b9eb134c8ed4f8db7b1f56112a8de16",
            "_dom_classes": [],
            "description": "",
            "_model_name": "HTMLModel",
            "placeholder": "​",
            "_view_module": "@jupyter-widgets/controls",
            "_model_module_version": "1.5.0",
            "value": " 0/5148 [00:00&lt;?, ?it/s]",
            "_view_count": null,
            "_view_module_version": "1.5.0",
            "description_tooltip": null,
            "_model_module": "@jupyter-widgets/controls",
            "layout": "IPY_MODEL_d40fc2e51b294924b3f79288ee9bc725"
          }
        },
        "9425e7d0bfd7473e9a9631dfd407504e": {
          "model_module": "@jupyter-widgets/controls",
          "model_name": "ProgressStyleModel",
          "state": {
            "_view_name": "StyleView",
            "_model_name": "ProgressStyleModel",
            "description_width": "initial",
            "_view_module": "@jupyter-widgets/base",
            "_model_module_version": "1.5.0",
            "_view_count": null,
            "_view_module_version": "1.2.0",
            "bar_color": null,
            "_model_module": "@jupyter-widgets/controls"
          }
        },
        "c89bd1673e2146a68d68d6d5b5eb5fa8": {
          "model_module": "@jupyter-widgets/base",
          "model_name": "LayoutModel",
          "state": {
            "_view_name": "LayoutView",
            "grid_template_rows": null,
            "right": null,
            "justify_content": null,
            "_view_module": "@jupyter-widgets/base",
            "overflow": null,
            "_model_module_version": "1.2.0",
            "_view_count": null,
            "flex_flow": null,
            "width": null,
            "min_width": null,
            "border": null,
            "align_items": null,
            "bottom": null,
            "_model_module": "@jupyter-widgets/base",
            "top": null,
            "grid_column": null,
            "overflow_y": null,
            "overflow_x": null,
            "grid_auto_flow": null,
            "grid_area": null,
            "grid_template_columns": null,
            "flex": null,
            "_model_name": "LayoutModel",
            "justify_items": null,
            "grid_row": null,
            "max_height": null,
            "align_content": null,
            "visibility": null,
            "align_self": null,
            "height": null,
            "min_height": null,
            "padding": null,
            "grid_auto_rows": null,
            "grid_gap": null,
            "max_width": null,
            "order": null,
            "_view_module_version": "1.2.0",
            "grid_template_areas": null,
            "object_position": null,
            "object_fit": null,
            "grid_auto_columns": null,
            "margin": null,
            "display": null,
            "left": null
          }
        },
        "5b9eb134c8ed4f8db7b1f56112a8de16": {
          "model_module": "@jupyter-widgets/controls",
          "model_name": "DescriptionStyleModel",
          "state": {
            "_view_name": "StyleView",
            "_model_name": "DescriptionStyleModel",
            "description_width": "",
            "_view_module": "@jupyter-widgets/base",
            "_model_module_version": "1.5.0",
            "_view_count": null,
            "_view_module_version": "1.2.0",
            "_model_module": "@jupyter-widgets/controls"
          }
        },
        "d40fc2e51b294924b3f79288ee9bc725": {
          "model_module": "@jupyter-widgets/base",
          "model_name": "LayoutModel",
          "state": {
            "_view_name": "LayoutView",
            "grid_template_rows": null,
            "right": null,
            "justify_content": null,
            "_view_module": "@jupyter-widgets/base",
            "overflow": null,
            "_model_module_version": "1.2.0",
            "_view_count": null,
            "flex_flow": null,
            "width": null,
            "min_width": null,
            "border": null,
            "align_items": null,
            "bottom": null,
            "_model_module": "@jupyter-widgets/base",
            "top": null,
            "grid_column": null,
            "overflow_y": null,
            "overflow_x": null,
            "grid_auto_flow": null,
            "grid_area": null,
            "grid_template_columns": null,
            "flex": null,
            "_model_name": "LayoutModel",
            "justify_items": null,
            "grid_row": null,
            "max_height": null,
            "align_content": null,
            "visibility": null,
            "align_self": null,
            "height": null,
            "min_height": null,
            "padding": null,
            "grid_auto_rows": null,
            "grid_gap": null,
            "max_width": null,
            "order": null,
            "_view_module_version": "1.2.0",
            "grid_template_areas": null,
            "object_position": null,
            "object_fit": null,
            "grid_auto_columns": null,
            "margin": null,
            "display": null,
            "left": null
          }
        }
      }
    }
  },
  "cells": [
    {
      "cell_type": "code",
      "metadata": {
        "id": "lUJcEdalKlZn"
      },
      "source": [
        "import os\n",
        "import sys\n",
        "import math\n",
        "import torch\n",
        "import random\n",
        "import numpy as np\n",
        "from tqdm import tqdm\n",
        "import torch.nn.functional as F\n",
        "import matplotlib.pyplot as plt"
      ],
      "execution_count": 1,
      "outputs": []
    },
    {
      "cell_type": "code",
      "metadata": {
        "id": "lv_-w2ZG7L4V",
        "outputId": "2ac328b8-3e2c-4e69-b61b-a5ef998032c2",
        "colab": {
          "base_uri": "https://localhost:8080/",
          "height": 34
        }
      },
      "source": [
        "torch.cuda.is_available()"
      ],
      "execution_count": 2,
      "outputs": [
        {
          "output_type": "execute_result",
          "data": {
            "text/plain": [
              "True"
            ]
          },
          "metadata": {
            "tags": []
          },
          "execution_count": 2
        }
      ]
    },
    {
      "cell_type": "markdown",
      "metadata": {
        "id": "kD68Ub9hKlZy"
      },
      "source": [
        "## Методы оптимизации\n",
        "Как вам показали на лекции, большинство методов машинного обучения сводятся к простому поиску параметров, который бы минимизировал ошибку на тренировочной выборке:\n",
        "$$\n",
        "min_{\\theta}L(p_{\\theta}(x), y)\n",
        "$$\n",
        "Здесь:\n",
        "* $L$ - некоторый лосс,\n",
        "* $p_{\\theta}$ - нейронная сеть с параметрами $\\theta$\n",
        "* x - данные для обучения,\n",
        "* y - ответы\n",
        "\n",
        "Напишем алгоритм для поиска минимума некоторой функции\n",
        "$$\n",
        "f(x) = x^{3} + 2x^{2} + 2\n",
        "$$"
      ]
    },
    {
      "cell_type": "code",
      "metadata": {
        "id": "6RDPRKKHKlZ0",
        "outputId": "4fcedec8-a786-4267-e51e-3b9c46af10a5",
        "colab": {
          "base_uri": "https://localhost:8080/"
        }
      },
      "source": [
        "# Наша функция f(x)\n",
        "func = lambda x: x ** 3 - 2*x ** 2 + 2\n",
        "# Производная функции f(x)\n",
        "d_func = lambda x: 3 * x ** 2 - 4 * x\n",
        "# Сделаем массив из 1000 элементов от -3 до 3\n",
        "x = np.linspace(-3, 3, 1000)\n",
        "# Определим границы по y для графика\n",
        "plt.ylim([-1, 3])\n",
        "plt.plot(x, func(x))\n",
        "plt.show()"
      ],
      "execution_count": 3,
      "outputs": [
        {
          "output_type": "display_data",
          "data": {
            "image/png": "[encoded data removed]",
            "text/plain": [
              "<Figure size 432x288 with 1 Axes>"
            ]
          },
          "metadata": {
            "tags": [],
            "needs_background": "light"
          }
        }
      ]
    },
    {
      "cell_type": "markdown",
      "metadata": {
        "id": "NYQ4OyiUKlZ4"
      },
      "source": [
        "Определим функцию для оптимизации $f(x)$, которая должна принимать на вход learning rate, максимальное количество итераций"
      ]
    },
    {
      "cell_type": "code",
      "metadata": {
        "id": "dQ_QI8CiKlZ5"
      },
      "source": [
        "def find_minimum_first_order(\n",
        "    learning_rate=0.01,\n",
        "    eps=1e-4,\n",
        "    max_iterations=1000,\n",
        "    anneal_learning_rate=None\n",
        "):\n",
        "    i = 0\n",
        "    x_old, x_new = 0, 2\n",
        "    # Будем сохранять обновлённые значения x и y\n",
        "    x_list, y_list = [x_old], [func(x_old)]\n",
        "    if not anneal_learning_rate:\n",
        "        anneal_learning_rate = lambda lr, step: lr\n",
        "\n",
        "    while abs(x_old - x_new) > eps and i < max_iterations:\n",
        "        learning_rate = anneal_learning_rate(learning_rate, step=i)\n",
        "        \n",
        "        x_old = x_new\n",
        "        print(x_new)\n",
        "        x_new = x_old - learning_rate * d_func(x_old)\n",
        "        x_list.append(x_new)\n",
        "        y_list.append(func(x_new))\n",
        "        i += 1\n",
        "    # TODO:\n",
        "    # Your code here\n",
        "    # --------------\n",
        "    # With these commands append new values to lists\n",
        "    # x_list.append(x_new)\n",
        "    # y_list.append(func(x_new))\n",
        "    # --------------\n",
        "    print(\"Найденный локальный минимум:\", x_new)\n",
        "    print(\"Количество шагов:\", len(x_list))\n",
        "    # Визуализируем сходимость\n",
        "    plt.figure(figsize=[6, 4])\n",
        "    plt.ylim([-3, 8])\n",
        "    print(x_list, y_list)\n",
        "    plt.scatter(x_list[:len(y_list)], y_list, c=\"r\", edgecolors='k')\n",
        "    plt.plot(x_list[:len(y_list)], y_list, c=\"r\")\n",
        "    plt.plot(x, func(x), c=\"b\")\n",
        "    plt.title(\"Descent trajectory\")\n",
        "    plt.show()"
      ],
      "execution_count": 4,
      "outputs": []
    },
    {
      "cell_type": "markdown",
      "metadata": {
        "id": "iBakKAc4KlZ8"
      },
      "source": [
        "Попробуем различные learning rate и посмотрим на поведение оптимизации"
      ]
    },
    {
      "cell_type": "code",
      "metadata": {
        "id": "kBe4cH6vKlZ9",
        "outputId": "e79b43d1-2563-4732-ed9f-7f0637dc94b6",
        "colab": {
          "base_uri": "https://localhost:8080/",
          "height": 1000
        }
      },
      "source": [
        "find_minimum_first_order(0.001)"
      ],
      "execution_count": 5,
      "outputs": [
        {
          "output_type": "stream",
          "text": [
            "2\n",
            "1.996\n",
            "1.992031952\n",
            "1.9880955059146332\n",
            "1.984190316716378\n",
            "1.9803160443443903\n",
            "1.9764723536153044\n",
            "1.9726589141359487\n",
            "1.9688754002179325\n",
            "1.9651214907940542\n",
            "1.9613968693364885\n",
            "1.9577012237767055\n",
            "1.954034246427082\n",
            "1.9503956339041606\n",
            "1.94678508705352\n",
            "1.943202310876212\n",
            "1.9396470144567328\n",
            "1.936118910892487\n",
            "1.9326177172247103\n",
            "1.9291431543708166\n",
            "1.9256949470581326\n",
            "1.9222728237589894\n",
            "1.9188765166271384\n",
            "1.9155057614354576\n",
            "1.9121602975149221\n",
            "1.9088398676948046\n",
            "1.9055442182440805\n",
            "1.9022730988140064\n",
            "1.8990262623818481\n",
            "1.8958034651957276\n",
            "1.8926044667205661\n",
            "1.8894290295850964\n",
            "1.88627691952992\n",
            "1.8831479053565858\n",
            "1.8800417588776654\n",
            "1.8769582548678045\n",
            "1.8738971710157266\n",
            "1.8708582878771673\n",
            "1.86784138882872\n",
            "1.8648462600225701\n",
            "1.8618726903421\n",
            "1.8589204713583432\n",
            "1.8559893972872712\n",
            "1.853079264947892\n",
            "1.8501898737211442\n",
            "1.847321025509568\n",
            "1.8444725246977371\n",
            "1.8416441781134336\n",
            "1.83883579498955\n",
            "1.8360471869267037\n",
            "1.8332781678565462\n",
            "1.830528554005754\n",
            "1.827798163860686\n",
            "1.8250868181326911\n",
            "1.8223943397240567\n",
            "1.8197205536945782\n",
            "1.817065287228741\n",
            "1.8144283696035008\n",
            "1.8118096321566488\n",
            "1.8092089082557485\n",
            "1.8066260332676356\n",
            "1.8040608445284652\n",
            "1.8015131813142968\n",
            "1.7989828848122065\n",
            "1.7964697980919135\n",
            "1.793973766077912\n",
            "1.7914946355220964\n",
            "1.7890322549768716\n",
            "1.786586474768736\n",
            "1.7841571469723314\n",
            "1.7817441253849433\n",
            "1.7793472655014517\n",
            "1.776966424489715\n",
            "1.7746014611663825\n",
            "1.7722522359731265\n",
            "1.7699186109532838\n",
            "1.7676004497289006\n",
            "1.7652976174781707\n",
            "1.763009980913261\n",
            "1.7607374082585148\n",
            "1.7584797692290262\n",
            "1.756236935009579\n",
            "1.7540087782339417\n",
            "1.7517951729645123\n",
            "1.749595994672305\n",
            "1.7474111202172742\n",
            "1.7452404278289664\n",
            "1.7430837970874964\n",
            "1.7409411089048394\n",
            "1.7388122455064343\n",
            "1.7366970904130907\n",
            "1.7345955284231953\n",
            "1.7325074455952107\n",
            "1.730432729230463\n",
            "1.7283712678562089\n",
            "1.726322951208981\n",
            "1.7242876702182044\n",
            "1.7222653169900777\n",
            "1.7202557847917173\n",
            "1.718258968035556\n",
            "1.7162747622639944\n",
            "1.7143030641342973\n",
            "1.7123437714037337\n",
            "1.7103967829149531\n",
            "1.7084619985815954\n",
            "1.7065393193741296\n",
            "1.7046286473059165\n",
            "1.702729885419492\n",
            "1.700842937773068\n",
            "1.6989677094272428\n",
            "1.6971041064319226\n",
            "1.695252035813446\n",
            "1.693411405561911\n",
            "1.691582124618697\n",
            "1.6897641028641834\n",
            "1.6879572511056549\n",
            "1.686161481065397\n",
            "1.6843767053689727\n",
            "1.6826028375336797\n",
            "1.6808397919571851\n",
            "1.6790874839063339\n",
            "1.6773458295061265\n",
            "1.6756147457288662\n",
            "1.6738941503834697\n",
            "1.6721839621049395\n",
            "1.6704841003439963\n",
            "1.668794485356866\n",
            "1.6671150381952209\n",
            "1.6654456806962719\n",
            "1.6637863354730074\n",
            "1.6621369259045793\n",
            "1.6604973761268311\n",
            "1.658867611022966\n",
            "1.657247556214355\n",
            "1.655637138051477\n",
            "1.654036283604997\n",
            "1.6524449206569716\n",
            "1.6508629776921844\n",
            "1.649290383889609\n",
            "1.6477270691139951\n",
            "1.6461729639075782\n",
            "1.6446279994819077\n",
            "1.6430921077097957\n",
            "1.6415652211173803\n",
            "1.6400472728763034\n",
            "1.6385381967960015\n",
            "1.637037927316107\n",
            "1.6355463994989572\n",
            "1.634063549022211\n",
            "1.6325893121715707\n",
            "1.6311236258336064\n",
            "1.6296664274886832\n",
            "1.6282176552039866\n",
            "1.6267772476266487\n",
            "1.625345143976968\n",
            "1.6239212840417272\n",
            "1.6225056081676028\n",
            "1.6210980572546672\n",
            "1.6196985727499813\n",
            "1.6183070966412763\n",
            "1.6169235714507229\n",
            "1.615547940228787\n",
            "1.6141801465481695\n",
            "1.6128201344978315\n",
            "1.611467848677098\n",
            "1.6101232341898464\n",
            "1.6087862366387717\n",
            "1.6074568021197317\n",
            "1.6061348772161677\n",
            "1.6048204089936018\n",
            "1.603513344994209\n",
            "1.6022136332314623\n",
            "1.60092122218485\n",
            "1.5996360607946638\n",
            "1.5983580984568584\n",
            "1.597087285017978\n",
            "1.5958235707701516\n",
            "1.5945669064461554\n",
            "1.5933172432145402\n",
            "1.592074532674824\n",
            "1.590838726852748\n",
            "1.5896097781955956\n",
            "1.588387639567573\n",
            "1.5871722642452502\n",
            "1.585963605913063\n",
            "1.584761618658873\n",
            "1.5835662569695856\n",
            "1.582377475726826\n",
            "1.5811952302026706\n",
            "1.5800194760554342\n",
            "1.5788501693255126\n",
            "1.577687266431277\n",
            "1.576530724165024\n",
            "1.575380499688975\n",
            "1.57423655053133\n",
            "1.573098834582369\n",
            "1.5719673100906053\n",
            "1.5708419356589873\n",
            "1.5697226702411486\n",
            "1.5686094731377063\n",
            "1.567502303992605\n",
            "1.5664011227895092\n",
            "1.5653058898482386\n",
            "1.5642165658212508\n",
            "1.563133111690167\n",
            "1.562055488762341\n",
            "1.5609836586674728\n",
            "1.559917583354262\n",
            "1.5588572250871056\n",
            "1.5578025464428351\n",
            "1.5567535103074952\n",
            "1.5557100798731611\n",
            "1.554672218634797\n",
            "1.5536398903871516\n",
            "1.5526130592216936\n",
            "1.551591689523583\n",
            "1.5505757459686815\n",
            "1.5495651935205972\n",
            "1.548559997427768\n",
            "1.5475601232205785\n",
            "1.5465655367085134\n",
            "1.545576203977344\n",
            "1.5445920913863502\n",
            "1.5436131655655758\n",
            "1.542639393413116\n",
            "1.5416707420924385\n",
            "1.5407071790297366\n",
            "1.5397486719113143\n",
            "1.5387951886810016\n",
            "1.5378466975376022\n",
            "1.5369031669323707\n",
            "1.53596456556652\n",
            "1.535030862388758\n",
            "1.534102026592855\n",
            "1.5331780276152376\n",
            "1.532258835132612\n",
            "1.5313444190596166\n",
            "1.5304347495465\n",
            "1.5295297969768278\n",
            "1.5286295319652152\n",
            "1.5277339253550875\n",
            "1.5268429482164652\n",
            "1.525956571843776\n",
            "1.5250747677536916\n",
            "1.5241975076829894\n",
            "1.5233247635864402\n",
            "1.522456507634719\n",
            "1.5215927122123398\n",
            "1.5207333499156162\n",
            "1.519878393550642\n",
            "1.5190278161312982\n",
            "1.5181815908772816\n",
            "1.5173396912121546\n",
            "1.51650209076142\n",
            "1.5156687633506143\n",
            "1.5148396830034263\n",
            "1.5140148239398343\n",
            "1.513194160574265\n",
            "1.512377667513774\n",
            "1.5115653195562457\n",
            "1.5107570916886153\n",
            "1.5099529590851075\n",
            "1.5091528971054984\n",
            "1.5083568812933945\n",
            "1.5075648873745326\n",
            "1.506776891255097\n",
            "1.5059928690200561\n",
            "1.5052127969315185\n",
            "1.5044366514271055\n",
            "1.5036644091183422\n",
            "1.502896046789068\n",
            "1.5021315413938616\n",
            "1.5013708700564863\n",
            "1.5006140100683498\n",
            "1.499860938886983\n",
            "1.499111634134534\n",
            "1.4983660735962796\n",
            "1.4976242352191518\n",
            "1.496886097110281\n",
            "1.4961516375355561\n",
            "1.4954208349181974\n",
            "1.494693667837348\n",
            "1.4939701150266782\n",
            "1.4932501553730064\n",
            "1.492533767914934\n",
            "1.4918209318414946\n",
            "1.4911116264908193\n",
            "1.4904058313488142\n",
            "1.4897035260478537\n",
            "1.489004690365487\n",
            "1.4883093042231577\n",
            "1.4876173476849386\n",
            "1.4869288009562789\n",
            "1.4862436443827642\n",
            "1.4855618584488908\n",
            "1.484883423776852\n",
            "1.4842083211253376\n",
            "1.483536531388346\n",
            "1.482868035594008\n",
            "1.4822028149034248\n",
            "1.4815408506095156\n",
            "1.4808821241358794\n",
            "1.4802266170356673\n",
            "1.4795743109904673\n",
            "1.4789251878092005\n",
            "1.4782792294270277\n",
            "1.4776364179042698\n",
            "1.476996735425336\n",
            "1.476360164297666\n",
            "1.4757266869506815\n",
            "1.475096285934749\n",
            "1.4744689439201524\n",
            "1.473844643696078\n",
            "1.4732233681696074\n",
            "1.472605100364723\n",
            "1.4719898234213211\n",
            "1.4713775205942385\n",
            "1.4707681752522854\n",
            "1.4701617708772898\n",
            "1.469558291063152\n",
            "1.4689577195149073\n",
            "1.4683600400477996\n",
            "1.4677652365863634\n",
            "1.4671732931635146\n",
            "1.4665841939196518\n",
            "1.4659979231017655\n",
            "1.4654144650625565\n",
            "1.464833804259563\n",
            "1.4642559252542966\n",
            "1.4636808127113867\n",
            "1.463108451397734\n",
            "1.4625388261816705\n",
            "1.4619719220321306\n",
            "1.461407724017828\n",
            "1.4608462173064425\n",
            "1.4602873871638127\n",
            "1.4597312189531388\n",
            "1.4591776981341922\n",
            "1.4586268102625324\n",
            "1.4580785409887325\n",
            "1.4575328760576118\n",
            "1.456989801307476\n",
            "1.456449302669364\n",
            "1.4559113661663032\n",
            "1.4553759779125717\n",
            "1.4548431241129671\n",
            "1.4543127910620826\n",
            "1.4537849651435906\n",
            "1.4532596328295322\n",
            "1.4527367806796148\n",
            "1.4522163953405152\n",
            "1.4516984635451897\n",
            "1.451182972112192\n",
            "1.4506699079449956\n",
            "1.4501592580313243\n",
            "1.4496510094424877\n",
            "1.4491451493327248\n",
            "1.448641664938552\n",
            "1.4481405435781185\n",
            "1.4476417726505668\n",
            "1.4471453396354004\n",
            "1.4466512320918565\n",
            "1.4461594376582854\n",
            "1.4456699440515342\n",
            "1.4451827390663383\n",
            "1.444697810574718\n",
            "1.4442151465253785\n",
            "1.44373473494312\n",
            "1.4432565639282486\n",
            "1.4427806216559957\n",
            "1.4423068963759416\n",
            "1.4418353764114444\n",
            "1.4413660501590757\n",
            "1.4408989060880586\n",
            "1.4404339327397135\n",
            "1.4399711187269084\n",
            "1.4395104527335132\n",
            "1.4390519235138601\n",
            "1.4385955198922087\n",
            "1.4381412307622157\n",
            "1.4376890450864097\n",
            "1.437238951895671\n",
            "1.4367909402887151\n",
            "1.436344999431583\n",
            "1.4359011185571329\n",
            "1.4354592869645406\n",
            "1.4350194940188006\n",
            "1.4345817291502339\n",
            "1.4341459818539997\n",
            "1.4337122416896118\n",
            "1.4332804982804583\n",
            "1.432850741313327\n",
            "1.4324229605379337\n",
            "1.4319971457664566\n",
            "1.4315732868730726\n",
            "1.431151373793499\n",
            "1.43073139652454\n",
            "1.430313345123635\n",
            "1.4298972097084133\n",
            "1.4294829804562512\n",
            "1.429070647603834\n",
            "1.4286602014467207\n",
            "1.4282516323389143\n",
            "1.4278449306924337\n",
            "1.427440086976891\n",
            "1.427037091719073\n",
            "1.426635935502523\n",
            "1.4262366089671317\n",
            "1.425839102808726\n",
            "1.4254434077786657\n",
            "1.4250495146834414\n",
            "1.4246574143842767\n",
            "1.4242670977967335\n",
            "1.4238785558903215\n",
            "1.42349177968811\n",
            "1.4231067602663434\n",
            "1.4227234887540614\n",
            "1.42234195633272\n",
            "1.4219621542358176\n",
            "1.421584073748524\n",
            "1.4212077062073116\n",
            "1.4208330429995917\n",
            "1.4204600755633516\n",
            "1.4200887953867967\n",
            "1.4197191940079945\n",
            "1.4193512630145224\n",
            "1.4189849940431178\n",
            "1.4186203787793317\n",
            "1.4182574089571849\n",
            "1.4178960763588278\n",
            "1.4175363728142019\n",
            "1.4171782902007048\n",
            "1.416821820442859\n",
            "1.4164669555119815\n",
            "1.4161136874258573\n",
            "1.4157620082484161\n",
            "1.4154119100894111\n",
            "1.4150633851041\n",
            "1.4147164254929294\n",
            "1.4143710235012226\n",
            "1.4140271714188677\n",
            "1.4136848615800106\n",
            "1.413344086362749\n",
            "1.4130048381888305\n",
            "1.4126671095233507\n",
            "1.412330892874457\n",
            "1.4119961807930521\n",
            "1.4116629658725017\n",
            "1.4113312407483438\n",
            "1.4110009980980005\n",
            "1.4106722306404917\n",
            "1.4103449311361531\n",
            "1.4100190923863534\n",
            "1.4096947072332167\n",
            "1.4093717685593454\n",
            "1.4090502692875466\n",
            "1.4087302023805588\n",
            "1.4084115608407834\n",
            "1.4080943377100166\n",
            "1.4077785260691835\n",
            "1.4074641190380757\n",
            "1.407151109775089\n",
            "1.4068394914769655\n",
            "1.406529257378536\n",
            "1.4062204007524646\n",
            "1.405912914908997\n",
            "1.4056067931957092\n",
            "1.4053020289972582\n",
            "1.4049986157351357\n",
            "1.4046965468674233\n",
            "1.4043958158885492\n",
            "1.4040964163290477\n",
            "1.4037983417553197\n",
            "1.403501585769396\n",
            "1.4032061420087019\n",
            "1.4029120041458238\n",
            "1.4026191658882778\n",
            "1.4023276209782796\n",
            "1.402037363192517\n",
            "1.4017483863419236\n",
            "1.4014606842714548\n",
            "1.4011742508598648\n",
            "1.4008890800194862\n",
            "1.4006051656960106\n",
            "1.4003225018682715\n",
            "1.4000410825480287\n",
            "1.399760901779754\n",
            "1.3994819536404193\n",
            "1.3992042322392853\n",
            "1.3989277317176934\n",
            "1.3986524462488577\n",
            "1.3983783700376593\n",
            "1.3981054973204423\n",
            "1.3978338223648112\n",
            "1.3975633394694293\n",
            "1.3972940429638203\n",
            "1.397025927208169\n",
            "1.3967589865931263\n",
            "1.3964932155396128\n",
            "1.3962286084986268\n",
            "1.3959651599510514\n",
            "1.395702864407464\n",
            "1.3954417164079482\n",
            "1.3951817105219053\n",
            "1.3949228413478685\n",
            "1.394665103513318\n",
            "1.3944084916744979\n",
            "1.394153000516234\n",
            "1.3938986247517535\n",
            "1.393645359122506\n",
            "1.3933931983979848\n",
            "1.3931421373755515\n",
            "1.3928921708802597\n",
            "1.3926432937646822\n",
            "1.3923955009087376\n",
            "1.39214878721952\n",
            "1.3919031476311277\n",
            "1.3916585771044958\n",
            "1.3914150706272284\n",
            "1.3911726232134316\n",
            "1.3909312299035497\n",
            "1.3906908857642009\n",
            "1.3904515858880149\n",
            "1.3902133253934714\n",
            "1.3899760994247405\n",
            "1.3897399031515234\n",
            "1.3895047317688947\n",
            "1.3892705804971457\n",
            "1.3890374445816296\n",
            "1.3888053192926064\n",
            "1.3885741999250905\n",
            "1.388344081798698\n",
            "1.3881149602574965\n",
            "1.3878868306698544\n",
            "1.3876596884282935\n",
            "1.3874335289493398\n",
            "1.3872083476733787\n",
            "1.3869841400645082\n",
            "1.3867609016103948\n",
            "1.3865386278221306\n",
            "1.3863173142340905\n",
            "1.3860969564037913\n",
            "1.3858775499117508\n",
            "1.3856590903613497\n",
            "1.385441573378692\n",
            "1.3852249946124686\n",
            "1.3850093497338212\n",
            "1.384794634436206\n",
            "1.384580844435261\n",
            "1.3843679754686709\n",
            "1.384156023296036\n",
            "1.38394498369874\n",
            "1.3837348524798203\n",
            "1.3835256254638375\n",
            "1.3833172984967474\n",
            "1.3831098674457734\n",
            "1.3829033281992789\n",
            "1.3826976766666421\n",
            "1.3824929087781308\n",
            "1.382289020484778\n",
            "1.3820860077582588\n",
            "1.3818838665907685\n",
            "1.3816825929949\n",
            "1.3814821830035242\n",
            "1.3812826326696697\n",
            "1.3810839380664037\n",
            "1.3808860952867144\n",
            "1.3806891004433925\n",
            "1.3804929496689167\n",
            "1.3802976391153357\n",
            "1.3801031649541549\n",
            "1.379909523376222\n",
            "1.3797167105916137\n",
            "1.3795247228295229\n",
            "1.3793335563381472\n",
            "1.3791432073845784\n",
            "1.3789536722546916\n",
            "1.3787649472530363\n",
            "1.3785770287027275\n",
            "1.3783899129453379\n",
            "1.3782035963407908\n",
            "1.378018075267254\n",
            "1.3778333461210333\n",
            "1.377649405316468\n",
            "1.3774662492858274\n",
            "1.377283874479206\n",
            "1.3771022773644215\n",
            "1.3769214544269124\n",
            "1.3767414021696367\n",
            "1.3765621171129712\n",
            "1.3763835957946113\n",
            "1.3762058347694723\n",
            "1.3760288306095896\n",
            "1.3758525799040215\n",
            "1.375677079258752\n",
            "1.3755023252965934\n",
            "1.3753283146570907\n",
            "1.3751550439964266\n",
            "1.3749825099873259\n",
            "1.374810709318962\n",
            "1.3746396386968636\n",
            "1.374469294842821\n",
            "1.374299674494795\n",
            "1.3741307744068247\n",
            "1.3739625913489364\n",
            "1.3737951221070532\n",
            "1.373628363482906\n",
            "1.3734623122939436\n",
            "1.3732969653732439\n",
            "1.3731323195694267\n",
            "1.3729683717465662\n",
            "1.3728051187841033\n",
            "1.3726425575767602\n",
            "1.3724806850344546\n",
            "1.3723194980822144\n",
            "1.3721589936600935\n",
            "1.371999168723087\n",
            "1.3718400202410488\n",
            "1.3716815451986082\n",
            "1.3715237405950873\n",
            "1.3713666034444199\n",
            "1.3712101307750695\n",
            "1.3710543196299492\n",
            "1.370899167066341\n",
            "1.3707446701558168\n",
            "1.3705908259841584\n",
            "1.3704376316512792\n",
            "1.3702850842711465\n",
            "1.3701331809717032\n",
            "1.369981918894791\n",
            "1.3698312951960743\n",
            "1.369681307044963\n",
            "1.3695319516245377\n",
            "1.3693832261314742\n",
            "1.3692351277759693\n",
            "1.3690876537816663\n",
            "1.3689408013855808\n",
            "1.3687945678380287\n",
            "1.368648950402552\n",
            "1.3685039463558482\n",
            "1.3683595529876968\n",
            "1.3682157676008895\n",
            "1.368072587511158\n",
            "1.3679300100471041\n",
            "1.3677880325501302\n",
            "1.3676466523743687\n",
            "1.3675058668866138\n",
            "1.3673656734662523\n",
            "1.3672260695051959\n",
            "1.3670870524078127\n",
            "1.3669486195908607\n",
            "1.36681076848342\n",
            "1.366673496526827\n",
            "1.3665368011746077\n",
            "1.3664006798924127\n",
            "1.366265130157951\n",
            "1.3661301494609261\n",
            "1.3659957353029715\n",
            "1.3658618851975857\n",
            "1.3657285966700694\n",
            "1.3655958672574624\n",
            "1.3654636945084804\n",
            "1.365332075983452\n",
            "1.365201009254258\n",
            "1.3650704919042684\n",
            "1.3649405215282822\n",
            "1.3648110957324655\n",
            "1.364682212134292\n",
            "1.364553868362482\n",
            "1.3644260620569428\n",
            "1.3642987908687099\n",
            "1.3641720524598873\n",
            "1.364045844503589\n",
            "1.3639201646838808\n",
            "1.3637950106957224\n",
            "1.3636703802449097\n",
            "1.3635462710480175\n",
            "1.3634226808323426\n",
            "1.3632996073358479\n",
            "1.363177048307105\n",
            "1.3630550015052396\n",
            "1.3629334646998752\n",
            "1.3628124356710782\n",
            "1.3626919122093033\n",
            "1.3625718921153385\n",
            "1.3624523732002516\n",
            "1.3623333532853357\n",
            "1.362214830202056\n",
            "1.362096801791997\n",
            "1.361979265906809\n",
            "1.361862220408156\n",
            "1.3617456631676637\n",
            "1.3616295920668664\n",
            "1.3615140049971572\n",
            "1.3613988998597357\n",
            "1.3612842745655567\n",
            "1.3611701270352805\n",
            "1.361056455199222\n",
            "1.3609432569973003\n",
            "1.3608305303789903\n",
            "1.3607182733032714\n",
            "1.3606064837385803\n",
            "1.3604951596627601\n",
            "1.3603842990630137\n",
            "1.3602738999358543\n",
            "1.3601639602870577\n",
            "1.3600544781316146\n",
            "1.3599454514936835\n",
            "1.359836878406543\n",
            "1.359728756912546\n",
            "1.3596210850630714\n",
            "1.3595138609184796\n",
            "1.359407082548065\n",
            "1.3593007480300119\n",
            "1.359194855451347\n",
            "1.3590894029078964\n",
            "1.3589843885042383\n",
            "1.3588798103536606\n",
            "1.3587756665781148\n",
            "1.3586719553081728\n",
            "1.3585686746829826\n",
            "1.3584658228502249\n",
            "1.3583633979660694\n",
            "1.358261398195132\n",
            "1.3581598217104314\n",
            "1.3580586666933476\n",
            "1.3579579313335783\n",
            "1.3578576138290974\n",
            "Найденный локальный минимум: 1.3577577123861129\n",
            "Количество шагов: 729\n",
            "[0, 1.996, 1.992031952, 1.9880955059146332, 1.984190316716378, 1.9803160443443903, 1.9764723536153044, 1.9726589141359487, 1.9688754002179325, 1.9651214907940542, 1.9613968693364885, 1.9577012237767055, 1.954034246427082, 1.9503956339041606, 1.94678508705352, 1.943202310876212, 1.9396470144567328, 1.936118910892487, 1.9326177172247103, 1.9291431543708166, 1.9256949470581326, 1.9222728237589894, 1.9188765166271384, 1.9155057614354576, 1.9121602975149221, 1.9088398676948046, 1.9055442182440805, 1.9022730988140064, 1.8990262623818481, 1.8958034651957276, 1.8926044667205661, 1.8894290295850964, 1.88627691952992, 1.8831479053565858, 1.8800417588776654, 1.8769582548678045, 1.8738971710157266, 1.8708582878771673, 1.86784138882872, 1.8648462600225701, 1.8618726903421, 1.8589204713583432, 1.8559893972872712, 1.853079264947892, 1.8501898737211442, 1.847321025509568, 1.8444725246977371, 1.8416441781134336, 1.83883579498955, 1.8360471869267037, 1.8332781678565462, 1.830528554005754, 1.827798163860686, 1.8250868181326911, 1.8223943397240567, 1.8197205536945782, 1.817065287228741, 1.8144283696035008, 1.8118096321566488, 1.8092089082557485, 1.8066260332676356, 1.8040608445284652, 1.8015131813142968, 1.7989828848122065, 1.7964697980919135, 1.793973766077912, 1.7914946355220964, 1.7890322549768716, 1.786586474768736, 1.7841571469723314, 1.7817441253849433, 1.7793472655014517, 1.776966424489715, 1.7746014611663825, 1.7722522359731265, 1.7699186109532838, 1.7676004497289006, 1.7652976174781707, 1.763009980913261, 1.7607374082585148, 1.7584797692290262, 1.756236935009579, 1.7540087782339417, 1.7517951729645123, 1.749595994672305, 1.7474111202172742, 1.7452404278289664, 1.7430837970874964, 1.7409411089048394, 1.7388122455064343, 1.7366970904130907, 1.7345955284231953, 1.7325074455952107, 1.730432729230463, 1.7283712678562089, 1.726322951208981, 1.7242876702182044, 1.7222653169900777, 1.7202557847917173, 1.718258968035556, 1.7162747622639944, 1.7143030641342973, 1.7123437714037337, 1.7103967829149531, 1.7084619985815954, 1.7065393193741296, 1.7046286473059165, 1.702729885419492, 1.700842937773068, 1.6989677094272428, 1.6971041064319226, 1.695252035813446, 1.693411405561911, 1.691582124618697, 1.6897641028641834, 1.6879572511056549, 1.686161481065397, 1.6843767053689727, 1.6826028375336797, 1.6808397919571851, 1.6790874839063339, 1.6773458295061265, 1.6756147457288662, 1.6738941503834697, 1.6721839621049395, 1.6704841003439963, 1.668794485356866, 1.6671150381952209, 1.6654456806962719, 1.6637863354730074, 1.6621369259045793, 1.6604973761268311, 1.658867611022966, 1.657247556214355, 1.655637138051477, 1.654036283604997, 1.6524449206569716, 1.6508629776921844, 1.649290383889609, 1.6477270691139951, 1.6461729639075782, 1.6446279994819077, 1.6430921077097957, 1.6415652211173803, 1.6400472728763034, 1.6385381967960015, 1.637037927316107, 1.6355463994989572, 1.634063549022211, 1.6325893121715707, 1.6311236258336064, 1.6296664274886832, 1.6282176552039866, 1.6267772476266487, 1.625345143976968, 1.6239212840417272, 1.6225056081676028, 1.6210980572546672, 1.6196985727499813, 1.6183070966412763, 1.6169235714507229, 1.615547940228787, 1.6141801465481695, 1.6128201344978315, 1.611467848677098, 1.6101232341898464, 1.6087862366387717, 1.6074568021197317, 1.6061348772161677, 1.6048204089936018, 1.603513344994209, 1.6022136332314623, 1.60092122218485, 1.5996360607946638, 1.5983580984568584, 1.597087285017978, 1.5958235707701516, 1.5945669064461554, 1.5933172432145402, 1.592074532674824, 1.590838726852748, 1.5896097781955956, 1.588387639567573, 1.5871722642452502, 1.585963605913063, 1.584761618658873, 1.5835662569695856, 1.582377475726826, 1.5811952302026706, 1.5800194760554342, 1.5788501693255126, 1.577687266431277, 1.576530724165024, 1.575380499688975, 1.57423655053133, 1.573098834582369, 1.5719673100906053, 1.5708419356589873, 1.5697226702411486, 1.5686094731377063, 1.567502303992605, 1.5664011227895092, 1.5653058898482386, 1.5642165658212508, 1.563133111690167, 1.562055488762341, 1.5609836586674728, 1.559917583354262, 1.5588572250871056, 1.5578025464428351, 1.5567535103074952, 1.5557100798731611, 1.554672218634797, 1.5536398903871516, 1.5526130592216936, 1.551591689523583, 1.5505757459686815, 1.5495651935205972, 1.548559997427768, 1.5475601232205785, 1.5465655367085134, 1.545576203977344, 1.5445920913863502, 1.5436131655655758, 1.542639393413116, 1.5416707420924385, 1.5407071790297366, 1.5397486719113143, 1.5387951886810016, 1.5378466975376022, 1.5369031669323707, 1.53596456556652, 1.535030862388758, 1.534102026592855, 1.5331780276152376, 1.532258835132612, 1.5313444190596166, 1.5304347495465, 1.5295297969768278, 1.5286295319652152, 1.5277339253550875, 1.5268429482164652, 1.525956571843776, 1.5250747677536916, 1.5241975076829894, 1.5233247635864402, 1.522456507634719, 1.5215927122123398, 1.5207333499156162, 1.519878393550642, 1.5190278161312982, 1.5181815908772816, 1.5173396912121546, 1.51650209076142, 1.5156687633506143, 1.5148396830034263, 1.5140148239398343, 1.513194160574265, 1.512377667513774, 1.5115653195562457, 1.5107570916886153, 1.5099529590851075, 1.5091528971054984, 1.5083568812933945, 1.5075648873745326, 1.506776891255097, 1.5059928690200561, 1.5052127969315185, 1.5044366514271055, 1.5036644091183422, 1.502896046789068, 1.5021315413938616, 1.5013708700564863, 1.5006140100683498, 1.499860938886983, 1.499111634134534, 1.4983660735962796, 1.4976242352191518, 1.496886097110281, 1.4961516375355561, 1.4954208349181974, 1.494693667837348, 1.4939701150266782, 1.4932501553730064, 1.492533767914934, 1.4918209318414946, 1.4911116264908193, 1.4904058313488142, 1.4897035260478537, 1.489004690365487, 1.4883093042231577, 1.4876173476849386, 1.4869288009562789, 1.4862436443827642, 1.4855618584488908, 1.484883423776852, 1.4842083211253376, 1.483536531388346, 1.482868035594008, 1.4822028149034248, 1.4815408506095156, 1.4808821241358794, 1.4802266170356673, 1.4795743109904673, 1.4789251878092005, 1.4782792294270277, 1.4776364179042698, 1.476996735425336, 1.476360164297666, 1.4757266869506815, 1.475096285934749, 1.4744689439201524, 1.473844643696078, 1.4732233681696074, 1.472605100364723, 1.4719898234213211, 1.4713775205942385, 1.4707681752522854, 1.4701617708772898, 1.469558291063152, 1.4689577195149073, 1.4683600400477996, 1.4677652365863634, 1.4671732931635146, 1.4665841939196518, 1.4659979231017655, 1.4654144650625565, 1.464833804259563, 1.4642559252542966, 1.4636808127113867, 1.463108451397734, 1.4625388261816705, 1.4619719220321306, 1.461407724017828, 1.4608462173064425, 1.4602873871638127, 1.4597312189531388, 1.4591776981341922, 1.4586268102625324, 1.4580785409887325, 1.4575328760576118, 1.456989801307476, 1.456449302669364, 1.4559113661663032, 1.4553759779125717, 1.4548431241129671, 1.4543127910620826, 1.4537849651435906, 1.4532596328295322, 1.4527367806796148, 1.4522163953405152, 1.4516984635451897, 1.451182972112192, 1.4506699079449956, 1.4501592580313243, 1.4496510094424877, 1.4491451493327248, 1.448641664938552, 1.4481405435781185, 1.4476417726505668, 1.4471453396354004, 1.4466512320918565, 1.4461594376582854, 1.4456699440515342, 1.4451827390663383, 1.444697810574718, 1.4442151465253785, 1.44373473494312, 1.4432565639282486, 1.4427806216559957, 1.4423068963759416, 1.4418353764114444, 1.4413660501590757, 1.4408989060880586, 1.4404339327397135, 1.4399711187269084, 1.4395104527335132, 1.4390519235138601, 1.4385955198922087, 1.4381412307622157, 1.4376890450864097, 1.437238951895671, 1.4367909402887151, 1.436344999431583, 1.4359011185571329, 1.4354592869645406, 1.4350194940188006, 1.4345817291502339, 1.4341459818539997, 1.4337122416896118, 1.4332804982804583, 1.432850741313327, 1.4324229605379337, 1.4319971457664566, 1.4315732868730726, 1.431151373793499, 1.43073139652454, 1.430313345123635, 1.4298972097084133, 1.4294829804562512, 1.429070647603834, 1.4286602014467207, 1.4282516323389143, 1.4278449306924337, 1.427440086976891, 1.427037091719073, 1.426635935502523, 1.4262366089671317, 1.425839102808726, 1.4254434077786657, 1.4250495146834414, 1.4246574143842767, 1.4242670977967335, 1.4238785558903215, 1.42349177968811, 1.4231067602663434, 1.4227234887540614, 1.42234195633272, 1.4219621542358176, 1.421584073748524, 1.4212077062073116, 1.4208330429995917, 1.4204600755633516, 1.4200887953867967, 1.4197191940079945, 1.4193512630145224, 1.4189849940431178, 1.4186203787793317, 1.4182574089571849, 1.4178960763588278, 1.4175363728142019, 1.4171782902007048, 1.416821820442859, 1.4164669555119815, 1.4161136874258573, 1.4157620082484161, 1.4154119100894111, 1.4150633851041, 1.4147164254929294, 1.4143710235012226, 1.4140271714188677, 1.4136848615800106, 1.413344086362749, 1.4130048381888305, 1.4126671095233507, 1.412330892874457, 1.4119961807930521, 1.4116629658725017, 1.4113312407483438, 1.4110009980980005, 1.4106722306404917, 1.4103449311361531, 1.4100190923863534, 1.4096947072332167, 1.4093717685593454, 1.4090502692875466, 1.4087302023805588, 1.4084115608407834, 1.4080943377100166, 1.4077785260691835, 1.4074641190380757, 1.407151109775089, 1.4068394914769655, 1.406529257378536, 1.4062204007524646, 1.405912914908997, 1.4056067931957092, 1.4053020289972582, 1.4049986157351357, 1.4046965468674233, 1.4043958158885492, 1.4040964163290477, 1.4037983417553197, 1.403501585769396, 1.4032061420087019, 1.4029120041458238, 1.4026191658882778, 1.4023276209782796, 1.402037363192517, 1.4017483863419236, 1.4014606842714548, 1.4011742508598648, 1.4008890800194862, 1.4006051656960106, 1.4003225018682715, 1.4000410825480287, 1.399760901779754, 1.3994819536404193, 1.3992042322392853, 1.3989277317176934, 1.3986524462488577, 1.3983783700376593, 1.3981054973204423, 1.3978338223648112, 1.3975633394694293, 1.3972940429638203, 1.397025927208169, 1.3967589865931263, 1.3964932155396128, 1.3962286084986268, 1.3959651599510514, 1.395702864407464, 1.3954417164079482, 1.3951817105219053, 1.3949228413478685, 1.394665103513318, 1.3944084916744979, 1.394153000516234, 1.3938986247517535, 1.393645359122506, 1.3933931983979848, 1.3931421373755515, 1.3928921708802597, 1.3926432937646822, 1.3923955009087376, 1.39214878721952, 1.3919031476311277, 1.3916585771044958, 1.3914150706272284, 1.3911726232134316, 1.3909312299035497, 1.3906908857642009, 1.3904515858880149, 1.3902133253934714, 1.3899760994247405, 1.3897399031515234, 1.3895047317688947, 1.3892705804971457, 1.3890374445816296, 1.3888053192926064, 1.3885741999250905, 1.388344081798698, 1.3881149602574965, 1.3878868306698544, 1.3876596884282935, 1.3874335289493398, 1.3872083476733787, 1.3869841400645082, 1.3867609016103948, 1.3865386278221306, 1.3863173142340905, 1.3860969564037913, 1.3858775499117508, 1.3856590903613497, 1.385441573378692, 1.3852249946124686, 1.3850093497338212, 1.384794634436206, 1.384580844435261, 1.3843679754686709, 1.384156023296036, 1.38394498369874, 1.3837348524798203, 1.3835256254638375, 1.3833172984967474, 1.3831098674457734, 1.3829033281992789, 1.3826976766666421, 1.3824929087781308, 1.382289020484778, 1.3820860077582588, 1.3818838665907685, 1.3816825929949, 1.3814821830035242, 1.3812826326696697, 1.3810839380664037, 1.3808860952867144, 1.3806891004433925, 1.3804929496689167, 1.3802976391153357, 1.3801031649541549, 1.379909523376222, 1.3797167105916137, 1.3795247228295229, 1.3793335563381472, 1.3791432073845784, 1.3789536722546916, 1.3787649472530363, 1.3785770287027275, 1.3783899129453379, 1.3782035963407908, 1.378018075267254, 1.3778333461210333, 1.377649405316468, 1.3774662492858274, 1.377283874479206, 1.3771022773644215, 1.3769214544269124, 1.3767414021696367, 1.3765621171129712, 1.3763835957946113, 1.3762058347694723, 1.3760288306095896, 1.3758525799040215, 1.375677079258752, 1.3755023252965934, 1.3753283146570907, 1.3751550439964266, 1.3749825099873259, 1.374810709318962, 1.3746396386968636, 1.374469294842821, 1.374299674494795, 1.3741307744068247, 1.3739625913489364, 1.3737951221070532, 1.373628363482906, 1.3734623122939436, 1.3732969653732439, 1.3731323195694267, 1.3729683717465662, 1.3728051187841033, 1.3726425575767602, 1.3724806850344546, 1.3723194980822144, 1.3721589936600935, 1.371999168723087, 1.3718400202410488, 1.3716815451986082, 1.3715237405950873, 1.3713666034444199, 1.3712101307750695, 1.3710543196299492, 1.370899167066341, 1.3707446701558168, 1.3705908259841584, 1.3704376316512792, 1.3702850842711465, 1.3701331809717032, 1.369981918894791, 1.3698312951960743, 1.369681307044963, 1.3695319516245377, 1.3693832261314742, 1.3692351277759693, 1.3690876537816663, 1.3689408013855808, 1.3687945678380287, 1.368648950402552, 1.3685039463558482, 1.3683595529876968, 1.3682157676008895, 1.368072587511158, 1.3679300100471041, 1.3677880325501302, 1.3676466523743687, 1.3675058668866138, 1.3673656734662523, 1.3672260695051959, 1.3670870524078127, 1.3669486195908607, 1.36681076848342, 1.366673496526827, 1.3665368011746077, 1.3664006798924127, 1.366265130157951, 1.3661301494609261, 1.3659957353029715, 1.3658618851975857, 1.3657285966700694, 1.3655958672574624, 1.3654636945084804, 1.365332075983452, 1.365201009254258, 1.3650704919042684, 1.3649405215282822, 1.3648110957324655, 1.364682212134292, 1.364553868362482, 1.3644260620569428, 1.3642987908687099, 1.3641720524598873, 1.364045844503589, 1.3639201646838808, 1.3637950106957224, 1.3636703802449097, 1.3635462710480175, 1.3634226808323426, 1.3632996073358479, 1.363177048307105, 1.3630550015052396, 1.3629334646998752, 1.3628124356710782, 1.3626919122093033, 1.3625718921153385, 1.3624523732002516, 1.3623333532853357, 1.362214830202056, 1.362096801791997, 1.361979265906809, 1.361862220408156, 1.3617456631676637, 1.3616295920668664, 1.3615140049971572, 1.3613988998597357, 1.3612842745655567, 1.3611701270352805, 1.361056455199222, 1.3609432569973003, 1.3608305303789903, 1.3607182733032714, 1.3606064837385803, 1.3604951596627601, 1.3603842990630137, 1.3602738999358543, 1.3601639602870577, 1.3600544781316146, 1.3599454514936835, 1.359836878406543, 1.359728756912546, 1.3596210850630714, 1.3595138609184796, 1.359407082548065, 1.3593007480300119, 1.359194855451347, 1.3590894029078964, 1.3589843885042383, 1.3588798103536606, 1.3587756665781148, 1.3586719553081728, 1.3585686746829826, 1.3584658228502249, 1.3583633979660694, 1.358261398195132, 1.3581598217104314, 1.3580586666933476, 1.3579579313335783, 1.3578576138290974, 1.3577577123861129] [2, 1.984063936, 1.9683812612660363, 1.9529472045073035, 1.9377570996391755, 1.9228063831103093, 1.9080905913067765, 1.893605358030725, 1.8793464120511647, 1.865309574724594, 1.8514907576832256, 1.8378859605886593, 1.8244912689489423, 1.8113028519970031, 1.7983169606285347, 1.785529925397472, 1.7729381545672425, 1.760538132216082, 1.748326416394712, 1.7362996373347759, 1.7244544957064694, 1.7127877609238427, 1.7012962694963312, 1.6899769234250916, 1.6788266886427845, 1.667842593495494, 1.657021727265505, 1.6463612387337, 1.6358583347804165, 1.6255102790235716, 1.6153143904929816, 1.6052680423397767, 1.5953686605798918, 1.5856137228705975, 1.5760007573191368, 1.5665273413224954, 1.5571911004374073, 1.5479897072797213, 1.5389208804522596, 1.5299823835003554, 1.5211720238942714, 1.512487652037711, 1.503927160301699, 1.4954884820830774, 1.487169590886932, 1.4789684994322805, 1.4708832587803213, 1.4629119574846667, 1.4550527207628798, 1.4473037096887609, 1.439663120404787, 1.432129183354137, 1.4247001625317708, 1.417374354754016, 1.4101500889461756, 1.403025725447633, 1.3959996553339948, 1.3890702997557893, 1.382236109293281, 1.3754955633269548, 1.3688471694232431, 1.3622894627350863, 1.3558210054169324, 1.349440386053769, 1.3431462191038372, 1.3369371443546338, 1.3308118263918658, 1.3247689540810086, 1.318807240061128, 1.3129254202506537, 1.3071222533647662, 1.3013965204441247, 1.2957470243946032, 1.2901725895377814, 1.2846720611718743, 1.279244305142866, 1.2738882074255482, 1.2686026737142377, 1.2633866290228992, 1.2582390172944455, 1.25315880101898, 1.248144960860743, 1.2431964952935477, 1.2383124202444877, 1.2334917687457159, 1.2287335905940626, 1.2240369520183325, 1.2194009353540602, 1.2148246387255455, 1.2103071757349948, 1.2058476751585694, 1.2014452806492004, 1.1970991504459683, 1.1928084570899165, 1.1885723871461122, 1.1843901409318187, 1.1802609322506319, 1.1761839881324088, 1.172158548578886, 1.168183866314811, 1.1642592065444815, 1.1603838467135459, 1.1565570762759405, 1.152778196465846, 1.1490465200745303, 1.1453613712319797, 1.1417220851931793, 1.1381280081289562, 1.1345784969212591, 1.131072918962773, 1.127610651960783, 1.124191083745151, 1.1208136120803536, 1.1174776444814434, 1.1141825980338744, 1.1109278992170752, 1.1077129837317132, 1.1045372963305233, 1.1014002906526619, 1.0983014290614728, 1.095240182485596, 1.0922160302633515, 1.0892284599903084, 1.0862769673699804, 1.0833610560675568, 1.0804802375666291, 1.077634031028813, 1.0748219631562197, 1.0720435680567153, 1.0692983871118829, 1.066585968847658, 1.0639058688075451, 1.0612576494283834, 1.0586408799185891, 1.0560551361388244, 1.0535000004850446, 1.0509750617738565, 1.0484799151301516, 1.0460141618769523, 1.043577409427435, 1.0411692711790677, 1.0387893664098273, 1.0364373201764439, 1.0341127632146323, 1.031815331841269, 1.0295446678584588, 1.0273004184594754, 1.0250822361365062, 1.022889778590189, 1.0207227086408768, 1.0185806941416207, 1.0164634078928092, 1.0143705275584427, 1.0123017355840105, 1.0102567191159153, 1.0082351699224477, 1.0062367843162416, 1.0042612630782033, 1.0023083113828735, 1.000377638725194, 0.9984689588486475, 0.9965819896747483, 0.9947164532338473, 0.9928720755972273, 0.9910485868104644, 0.989245720828027, 0.9874632154490852, 0.9857008122545077, 0.983958256545022, 0.9822352972805097, 0.9805316870204237, 0.9788471818652891, 0.9771815413992826, 0.9755345286338519, 0.9739059099523706, 0.9722954550557903, 0.9707029369092846, 0.9691281316898586, 0.9675708187348944, 0.9660307804916428, 0.9645078024676046, 0.9630016731818145, 0.9615121841169909, 0.960039129672543, 0.9585823071184181, 0.9571415165497643, 0.9557165608424079, 0.9543072456091064, 0.9529133791565894, 0.9515347724433485, 0.9501712390381751, 0.9488225950794207, 0.9474886592349812, 0.946169252662973, 0.9448641989731059, 0.9435733241887143, 0.9422964567094652, 0.9410334272747058, 0.9397840689274428, 0.9385482169789547, 0.9373257089740026, 0.9361163846566534, 0.9349200859366795, 0.9337366568565391, 0.9325659435589246, 0.9314077942548615, 0.93026205919235, 0.9291285906255511, 0.928007242784477, 0.9268978718452154, 0.9258003359006453, 0.9247144949316519, 0.9236402107788222, 0.9225773471146232, 0.9215257694160441, 0.9204853449376964, 0.919455942685361, 0.9184374333899861, 0.9174296894821077, 0.9164325850667012, 0.9154459958984513, 0.9144697993574256, 0.913503874425158, 0.9125481016611223, 0.9116023631795906, 0.9106665426268803, 0.9097405251589659, 0.9088241974194649, 0.9079174475179754, 0.9070201650087757, 0.9061322408698649, 0.9052535674823443, 0.9043840386101385, 0.9035235493800378, 0.9026719962620726, 0.9018292770501897, 0.9009952908432575, 0.9001699380263624, 0.8993531202524121, 0.8985447404240334, 0.8977447026757583, 0.8969529123564901, 0.8961692760122606, 0.8953937013692448, 0.8946260973170626, 0.8938663738923291, 0.8931144422624793, 0.8923702147098376, 0.8916336046159428, 0.8909045264461173, 0.8901828957342843, 0.8894686290680176, 0.888761644073822, 0.8880618594026566, 0.8873691947156654, 0.8866835706701512, 0.8860049089057465, 0.8853331320308127, 0.8846681636090472, 0.8840099281462912, 0.8833583510775522, 0.882713358754212, 0.8820748784314478, 0.8814428382558304, 0.8808171672531238, 0.8801977953162674, 0.8795846531935405, 0.8789776724769056, 0.8783767855905396, 0.8777819257795212, 0.8771930270987087, 0.8766100244017725, 0.8760328533303996, 0.8754614503036593, 0.8748957525075309, 0.8743356978845851, 0.8737812251238233, 0.8732322736506681, 0.8726887836171069, 0.8721506958919729, 0.8716179520513831, 0.8710904943693123, 0.8705682658083078, 0.8700512100103381, 0.8695392712877892, 0.8690323946145764, 0.8685305256174067, 0.8680336105671511, 0.8675415963703594, 0.8670544305608887, 0.866572061291663, 0.8660944373265438, 0.8656215080323317, 0.865153223370875, 0.8646895338912945, 0.8642303907223288, 0.8637757455647805, 0.8633255506840771, 0.8628797589029435, 0.8624383235941719, 0.8620011986735014, 0.8615683385926016, 0.8611396983321495, 0.860715233395017, 0.8602948997995443, 0.8598786540729209, 0.8594664532446497, 0.8590582548401171, 0.8586540168742398, 0.8582536978452193, 0.8578572567283675, 0.8574646529700347, 0.857075846481612, 0.8566907976336275, 0.8563094672499205, 0.8559318166018999, 0.8555578074028793, 0.8551874018025032, 0.8548205623812346, 0.8544572521449334, 0.8540974345195038, 0.8537410733456214, 0.8533881328735293, 0.8530385777579053, 0.8526923730528071, 0.8523494842066848, 0.8520098770574571, 0.8516735178276651, 0.8513403731196845, 0.8510104099110096, 0.8506835955496008, 0.8503598977492923, 0.8500392845852702, 0.8497217244896063, 0.8494071862468537, 0.8490956389897075, 0.8487870521947221, 0.8484813956780788, 0.8481786395914286, 0.847878754417775, 0.8475817109674204, 0.8472874803739665, 0.8469960340903686, 0.8467073438850439, 0.846421381838026, 0.8461381203371872, 0.8458575320744908, 0.8455795900423104, 0.8453042675297899, 0.8450315381192528, 0.8447613756826682, 0.8444937543781483, 0.8442286486465091, 0.8439660332078631, 0.84370588305827, 0.843448173466419, 0.8431928799703678, 0.8429399783743134, 0.8426894447454139, 0.8424412554106477, 0.8421953869537164, 0.841951816211989, 0.841710520273482, 0.8414714764738838, 0.8412346623936173, 0.8410000558549386, 0.8407676349190778, 0.8405373778834089, 0.8403092632786726, 0.8400832698662128, 0.8398593766352711, 0.8396375628003012, 0.8394178077983248, 0.8392000912863224, 0.8389843931386527, 0.8387706934445118, 0.8385589725054201, 0.8383492108327433, 0.8381413891452478, 0.8379354883666825, 0.8377314896233954, 0.83752937424198, 0.8373291237469518, 0.8371307198584543, 0.8369341444899923, 0.8367393797461977, 0.8365464079206251, 0.8363552114935633, 0.8361657731298946, 0.8359780756769624, 0.8357921021624799, 0.8356078357924521, 0.8354252599491367, 0.8352443581890237, 0.8350651142408427, 0.8348875120035881, 0.8347115355445873, 0.834537169097568, 0.8343643970607761, 0.8341932039950914, 0.8340235746221887, 0.8338554938227101, 0.8336889466344615, 0.8335239182506324, 0.8333603940180416, 0.8331983594353969, 0.8330378001515841, 0.8328787019639723, 0.8327210508167431, 0.8325648327992359, 0.8324100341443215, 0.8322566412267873, 0.8321046405617496, 0.831954018803077, 0.8318047627418448, 0.8316568593047942, 0.831510295552826, 0.8313650586794967, 0.8312211360095483, 0.8310785149974427, 0.8309371832259242, 0.8307971284045932, 0.8306583383684978, 0.830520801076748, 0.8303845046111413, 0.8302494371748028, 0.8301155870908508, 0.8299829428010708, 0.8298514928646057, 0.8297212259566673, 0.8295921308672574, 0.829464196499909, 0.8293374118704393, 0.8292117661057175, 0.8290872484424523, 0.8289638482259858, 0.8288415549091095, 0.8287203580508904, 0.8286002473155123, 0.8284812124711305, 0.8283632433887367, 0.8282463300410492, 0.8281304625013997, 0.8280156309426463, 0.8279018256360922, 0.8277890369504215, 0.8276772553506455, 0.8275664713970601, 0.8274566757442194, 0.8273478591399175, 0.8272400124241841, 0.8271331265282935, 0.8270271924737789, 0.8269222013714699, 0.8268181444205256, 0.8267150129074956, 0.8266127982053786, 0.8265114917726999, 0.8264110851525954, 0.8263115699719097, 0.8262129379403023, 0.8261151808493636, 0.8260182905717444, 0.825922259060293, 0.8258270783472015, 0.8257327405431636, 0.8256392378365449, 0.8255465624925544, 0.8254547068524354, 0.8253636633326589, 0.8252734244241289, 0.8251839826913967, 0.8250953307718842, 0.8250074613751153, 0.8249203672819574, 0.8248340413438702, 0.8247484764821649, 0.8246636656872695, 0.8245796020180034, 0.8244962786008632, 0.8244136886293107, 0.8243318253630756, 0.8242506821274596, 0.8241702523126531, 0.8240905293730596, 0.8240115068266243, 0.8239331782541721, 0.8238555372987557, 0.8237785776650064, 0.8237022931184961, 0.8236266774851027, 0.823551724650387, 0.8234774285589737, 0.8234037832139403, 0.8233307826762108, 0.8232584210639615, 0.8231866925520257, 0.8231155913713142, 0.8230451118082325, 0.8229752482041133, 0.8229059949546493, 0.8228373465093339, 0.8227692973709124, 0.8227018420948302, 0.8226349752886963, 0.8225686916117492, 0.8225029857743245, 0.822437852537337, 0.8223732867117612, 0.8223092831581211, 0.8222458367859846, 0.8221829425534635, 0.822120595466719, 0.8220587905794736, 0.8219975229925263, 0.821936787853276, 0.8218765803552466, 0.8218168957376206, 0.8217577292847764, 0.8216990763258294, 0.8216409322341804, 0.8215832924270687, 0.8215261523651267, 0.8214695075519454, 0.8214133535336381, 0.8213576858984135, 0.8213025002761523, 0.821247792337986, 0.8211935577958847, 0.8211397924022443, 0.8210864919494836, 0.8210336522696409, 0.8209812692339766, 0.8209293387525824, 0.8208778567739912, 0.8208268192847941, 0.8207762223092585, 0.820726061908954, 0.820676334182378, 0.8206270352645904, 0.8205781613268464, 0.8205297085762391, 0.8204816732553426, 0.8204340516418567, 0.8203868400482621, 0.8203400348214718, 0.8202936323424939, 0.8202476290260883, 0.8202020213204375, 0.820156805706814, 0.8201119786992535, 0.8200675368442294, 0.8200234767203365, 0.819979794937971, 0.8199364881390183, 0.8198935529965432, 0.8198509862144814, 0.8198087845273387, 0.8197669446998881, 0.8197254635268734, 0.8196843378327152, 0.819643564471221, 0.8196031403252952, 0.8195630623066545, 0.8195233273555487, 0.8194839324404777, 0.8194448745579184, 0.8194061507320503, 0.819367758014486, 0.8193296934840024, 0.8192919542462773, 0.8192545374336273, 0.819217440204747, 0.8191806597444562, 0.8191441932634418, 0.8191080379980082, 0.8190721912098313, 0.819036650185708, 0.8190014122373168, 0.8189664747009737, 0.8189318349373962, 0.8188974903314654, 0.8188634382919946, 0.8188296762514953, 0.8187962016659527, 0.8187630120145948, 0.8187301047996707, 0.8186974775462295, 0.8186651278018986, 0.818633053136669, 0.8186012511426792, 0.8185697194340009, 0.8185384556464319, 0.8185074574372844, 0.8184767224851814, 0.8184462484898494, 0.8184160331719195, 0.8183860742727243, 0.8183563695541052, 0.8183269167982079, 0.818297713807298, 0.8182687584035611, 0.8182400484289172, 0.8182115817448321, 0.8181833562321295, 0.8181553697908077, 0.8181276203398578, 0.818100105817082, 0.8180728241789166, 0.8180457734002515, 0.8180189514742584, 0.8179923564122173, 0.8179659862433426, 0.8179398390146146, 0.8179139127906105, 0.8178882056533405, 0.8178627157020788, 0.8178374410532041, 0.8178123798400359, 0.8177875302126747, 0.8177628903378453, 0.8177384583987379, 0.8177142325948559, 0.8176902111418571, 0.8176663922714087, 0.8176427742310306, 0.817619355283949, 0.8175961337089497, 0.8175731078002291, 0.8175502758672537, 0.8175276362346127, 0.8175051872418786, 0.8174829272434674, 0.8174608546084969, 0.8174389677206508, 0.8174172649780451, 0.8173957447930875, 0.8173744055923486, 0.8173532458164279, 0.8173322639198224, 0.8173114583707983, 0.8172908276512625, 0.817270370256634, 0.8172500846957194, 0.8172299694905889, 0.8172100231764508, 0.8171902443015324, 0.8171706314269551, 0.8171511831266196, 0.8171318979870827, 0.8171127746074434, 0.8170938115992232, 0.8170750075862552, 0.8170563612045658, 0.8170378711022659, 0.8170195359394348, 0.8170013543880144, 0.8169833251316958, 0.8169654468658116, 0.8169477182972296, 0.816930138144246, 0.8169127051364784, 0.8168954180147647, 0.8168782755310566, 0.8168612764483187, 0.816844419540427, 0.8168277035920695, 0.8168111273986431, 0.8167946897661622, 0.8167783895111538, 0.8167622254605642, 0.8167461964516658, 0.8167303013319578, 0.8167145389590758, 0.8166989082006975, 0.8166834079344509, 0.8166680370478248, 0.8166527944380753, 0.8166376790121408, 0.8166226896865489, 0.8166078253873335, 0.8165930850499437, 0.8165784676191614, 0.8165639720490141, 0.816549597302691, 0.8165353423524606, 0.8165212061795866, 0.8165071877742465, 0.8164932861354517, 0.8164795002709644, 0.8164658291972211, 0.8164522719392524, 0.8164388275306043, 0.8164254950132634, 0.8164122734375758, 0.8163991618621775, 0.8163861593539128, 0.8163732649877655, 0.8163604778467808, 0.8163477970219954, 0.8163352216123645, 0.8163227507246882, 0.8163103834735437, 0.8162981189812126, 0.8162859563776128, 0.8162738948002293, 0.8162619333940442, 0.8162500713114729, 0.8162383077122923, 0.8162266417635791, 0.8162150726396402, 0.8162035995219501, 0.8161922215990867, 0.816180938066664, 0.8161697481272734, 0.8161586509904173, 0.8161476458724493, 0.8161367319965116, 0.8161259085924746, 0.8161151748968765, 0.8161045301528627, 0.8160939736101285, 0.8160835045248578, 0.8160731221596662, 0.816062825783546, 0.8160526146718032, 0.816042488106008, 0.8160324453739332, 0.8160224857695009]\n"
          ],
          "name": "stdout"
        },
        {
          "output_type": "display_data",
          "data": {
            "image/png": "[encoded data removed]",
            "text/plain": [
              "<Figure size 432x288 with 1 Axes>"
            ]
          },
          "metadata": {
            "tags": [],
            "needs_background": "light"
          }
        }
      ]
    },
    {
      "cell_type": "markdown",
      "metadata": {
        "id": "U6qHwvrQKlaA"
      },
      "source": [
        "Слишком мало, будем очень долго идти к локальному минимуму"
      ]
    },
    {
      "cell_type": "code",
      "metadata": {
        "id": "4fJFR4SlKlaB",
        "outputId": "b09d20c0-87e4-44c0-d20d-a134b1ce769a",
        "colab": {
          "base_uri": "https://localhost:8080/",
          "height": 1000
        }
      },
      "source": [
        "find_minimum_first_order(0.01)"
      ],
      "execution_count": 6,
      "outputs": [
        {
          "output_type": "stream",
          "text": [
            "2\n",
            "1.96\n",
            "1.923152\n",
            "1.88912267154688\n",
            "1.8576240443641827\n",
            "1.8284059934327517\n",
            "1.8012501788654376\n",
            "1.775965119814172\n",
            "1.7523821614028419\n",
            "1.7303521506708686\n",
            "1.7097426797377644\n",
            "1.6904357859997687\n",
            "1.6723260230420998\n",
            "1.6553188341434695\n",
            "1.6393291742291054\n",
            "1.6242803369539092\n",
            "1.6101029520416124\n",
            "1.5967341246380835\n",
            "1.5841166936800946\n",
            "1.5721985904514197\n",
            "1.5609322818349536\n",
            "1.5502742854541174\n",
            "1.5401847460680738\n",
            "1.5306270643501734\n",
            "1.5215675706205434\n",
            "1.512975237286442\n",
            "1.5048214247186407\n",
            "1.497079656098619\n",
            "1.489725417441433\n",
            "1.4827359795579587\n",
            "1.476090239188006\n",
            "1.469768576928743\n",
            "1.4637527299140785\n",
            "1.458025677480714\n",
            "1.4525715382941498\n",
            "1.4473754776100487\n",
            "1.4424236235188432\n",
            "1.43770299116904\n",
            "1.4332014140913094\n",
            "1.428907481854362\n",
            "1.4248104833775552\n",
            "1.42090035530638\n",
            "1.4171676349273412\n",
            "1.4136034171598681\n",
            "1.4101993152160812\n",
            "1.4069474245656473\n",
            "1.4038402898835158\n",
            "1.4008708746938494\n",
            "1.398032533454638\n",
            "1.3953189858548958\n",
            "1.3927242931204775\n",
            "1.3902428361458585\n",
            "1.3878692952880465\n",
            "1.3855986316754683\n",
            "1.3834260698994592\n",
            "1.3813470819691136\n",
            "1.3793573724219406\n",
            "1.3774528644931754\n",
            "1.3756296872558889\n",
            "1.3738841636523325\n",
            "1.3722127993443858\n",
            "1.3706122723176246\n",
            "1.3690794231794992\n",
            "1.3676112460974739\n",
            "1.3662048803278042\n",
            "1.364857602289971\n",
            "1.363566818145708\n",
            "1.362330056845096\n",
            "1.361144963605393\n",
            "1.3600092937911588\n",
            "1.3589209071668553\n",
            "1.3578777624954739\n",
            "1.3568779124589014\n",
            "1.3559194988776928\n",
            "1.3550007482096986\n",
            "1.3541199673086213\n",
            "1.353275539425049\n",
            "1.3524659204338663\n",
            "1.3516896352731702\n",
            "1.3509452745809496\n",
            "1.3502314915168097\n",
            "1.3495469987569708\n",
            "1.3488905656516312\n",
            "1.3482610155345771\n",
            "1.3476572231756503\n",
            "1.3470781123673512\n",
            "1.3465226536374697\n",
            "1.3459898620802018\n",
            "1.3454787952987295\n",
            "1.3449885514527231\n",
            "1.3445182674046652\n",
            "1.3440671169593066\n",
            "1.3436343091909397\n",
            "1.343219086853527\n",
            "1.3428207248690394\n",
            "1.3424385288896665\n",
            "1.3420718339298296\n",
            "1.3417200030641896\n",
            "1.34138242618808\n",
            "1.3410585188370165\n",
            "1.3407477210621372\n",
            "1.3404494963586233\n",
            "1.3401633306443257\n",
            "1.339888731285988\n",
            "1.3396252261706123\n",
            "1.3393723628196568\n",
            "1.3391297075438897\n",
            "1.3388968446368479\n",
            "1.3386733756049665\n",
            "1.3384589184325573\n",
            "1.33825310687991\n",
            "1.3380555898128943\n",
            "1.337866030562524\n",
            "1.3376841063130314\n",
            "1.3375095075170778\n",
            "1.3373419373368036\n",
            "1.3371811111094831\n",
            "1.3370267558366227\n",
            "1.3368786096953975\n",
            "1.3367364215713804\n",
            "1.3365999506115718\n",
            "1.336468965796789\n",
            "1.3363432455325224\n",
            "1.3362225772574114\n",
            "1.3361067570685348\n",
            "1.3359955893627502\n",
            "1.3358888864933585\n",
            "1.335786468441399\n",
            "Найденный локальный минимум: 1.3356881625009205\n",
            "Количество шагов: 129\n",
            "[0, 1.96, 1.923152, 1.88912267154688, 1.8576240443641827, 1.8284059934327517, 1.8012501788654376, 1.775965119814172, 1.7523821614028419, 1.7303521506708686, 1.7097426797377644, 1.6904357859997687, 1.6723260230420998, 1.6553188341434695, 1.6393291742291054, 1.6242803369539092, 1.6101029520416124, 1.5967341246380835, 1.5841166936800946, 1.5721985904514197, 1.5609322818349536, 1.5502742854541174, 1.5401847460680738, 1.5306270643501734, 1.5215675706205434, 1.512975237286442, 1.5048214247186407, 1.497079656098619, 1.489725417441433, 1.4827359795579587, 1.476090239188006, 1.469768576928743, 1.4637527299140785, 1.458025677480714, 1.4525715382941498, 1.4473754776100487, 1.4424236235188432, 1.43770299116904, 1.4332014140913094, 1.428907481854362, 1.4248104833775552, 1.42090035530638, 1.4171676349273412, 1.4136034171598681, 1.4101993152160812, 1.4069474245656473, 1.4038402898835158, 1.4008708746938494, 1.398032533454638, 1.3953189858548958, 1.3927242931204775, 1.3902428361458585, 1.3878692952880465, 1.3855986316754683, 1.3834260698994592, 1.3813470819691136, 1.3793573724219406, 1.3774528644931754, 1.3756296872558889, 1.3738841636523325, 1.3722127993443858, 1.3706122723176246, 1.3690794231794992, 1.3676112460974739, 1.3662048803278042, 1.364857602289971, 1.363566818145708, 1.362330056845096, 1.361144963605393, 1.3600092937911588, 1.3589209071668553, 1.3578777624954739, 1.3568779124589014, 1.3559194988776928, 1.3550007482096986, 1.3541199673086213, 1.353275539425049, 1.3524659204338663, 1.3516896352731702, 1.3509452745809496, 1.3502314915168097, 1.3495469987569708, 1.3488905656516312, 1.3482610155345771, 1.3476572231756503, 1.3470781123673512, 1.3465226536374697, 1.3459898620802018, 1.3454787952987295, 1.3449885514527231, 1.3445182674046652, 1.3440671169593066, 1.3436343091909397, 1.343219086853527, 1.3428207248690394, 1.3424385288896665, 1.3420718339298296, 1.3417200030641896, 1.34138242618808, 1.3410585188370165, 1.3407477210621372, 1.3404494963586233, 1.3401633306443257, 1.339888731285988, 1.3396252261706123, 1.3393723628196568, 1.3391297075438897, 1.3388968446368479, 1.3386733756049665, 1.3384589184325573, 1.33825310687991, 1.3380555898128943, 1.337866030562524, 1.3376841063130314, 1.3375095075170778, 1.3373419373368036, 1.3371811111094831, 1.3370267558366227, 1.3368786096953975, 1.3367364215713804, 1.3365999506115718, 1.336468965796789, 1.3363432455325224, 1.3362225772574114, 1.3361067570685348, 1.3359955893627502, 1.3358888864933585, 1.335786468441399, 1.3356881625009205] [2, 1.846336, 1.7157766257064875, 1.6043027123462714, 1.508693737856155, 1.4263494858336498, 1.3551557667153311, 1.2933823141539733, 1.239604434338836, 1.19264236822199, 1.1515139872891798, 1.1153976149281153, 1.0836026009031947, 1.0555458784797933, 1.030733171796065, 1.0087438427389523, 0.9892186048098148, 0.9718495093403732, 0.9563717432542456, 0.9425568790016707, 0.9302072947012561, 0.9191515419818108, 0.9092404849756095, 0.9003440696485905, 0.8923486105949472, 0.8851545043906337, 0.8786742959592706, 0.8728310381893345, 0.8675568960406195, 0.8627919551938534, 0.8584832023939692, 0.8545836503740563, 0.851051584902661, 0.8478499152900869, 0.8449456127909891, 0.8423092238858527, 0.8399144475199587, 0.8377377671101032, 0.8357581295646277, 0.8339566647555863, 0.8323164398769247, 0.8308222439546507, 0.8294603984728197, 0.8282185906658892, 0.8270857265227116, 0.8260518009655047, 0.8251077830213696, 0.82424551410478, 0.82345761778552, 0.8227374196350263, 0.8220788759308775, 0.8214765101591706, 0.8209253563919496, 0.8204209087350045, 0.8199590761432356, 0.8195361419887273, 0.8191487278427698, 0.8187937609990037, 0.8184684453221163, 0.818170235056281, 0.8178968112709089, 0.8176460606590878, 0.8174160564371467, 0.817205041122699, 0.8170114109938629, 0.8168337020546055, 0.8166705773507013, 0.8165208154980044, 0.8163833002998948, 0.8162570113441379, 0.8161410154812061, 0.8160344590965924, 0.8159365610988742, 0.8158466065535235, 0.8157639408997253, 0.8156879646939745, 0.8156181288299491, 0.8155539301893171, 0.8154949076827043, 0.8154406386441271, 0.8153907355458507, 0.8153448430038939, 0.8153026350473191, 0.815263812627069, 0.8152281013424436, 0.8151952493654355, 0.8151650255450096, 0.8151372176751375, 0.8151116309118982, 0.8150880863263614, 0.8150664195811879, 0.8150464797200105, 0.8150281280596685, 0.8150112371762712, 0.8149956899769051, 0.8149813788495219, 0.8149682048842402, 0.8149560771598878, 0.8149449120901724, 0.8149346328243614, 0.8149251686978158, 0.8149164547281229, 0.8149084311529617, 0.814901043006155, 0.8148942397286882, 0.8148879748117515, 0.8148822054691065, 0.8148768923363261, 0.8148719991946605, 0.8148674927174708, 0.8148633422373579, 0.8148595195322645, 0.8148559986289823, 0.8148527556226193, 0.8148497685107174, 0.8148470170408091, 0.8148444825703094, 0.8148421479377328, 0.814839997344305, 0.8148380162451239, 0.8148361912490816, 0.8148345100268437, 0.8148329612262231, 0.81483153439435, 0.8148302199060851, 0.814829008898172, 0.8148278932086614, 0.8148268653211845, 0.8148259183136788]\n"
          ],
          "name": "stdout"
        },
        {
          "output_type": "display_data",
          "data": {
            "image/png": "[encoded data removed]",
            "text/plain": [
              "<Figure size 432x288 with 1 Axes>"
            ]
          },
          "metadata": {
            "tags": [],
            "needs_background": "light"
          }
        }
      ]
    },
    {
      "cell_type": "markdown",
      "metadata": {
        "id": "tyeqRTitKlaF"
      },
      "source": [
        "Уже лучше"
      ]
    },
    {
      "cell_type": "code",
      "metadata": {
        "id": "AEX-iPPJKlaF",
        "outputId": "1506b395-2e32-44eb-9bf7-651a28ae1dd5",
        "colab": {
          "base_uri": "https://localhost:8080/",
          "height": 471
        }
      },
      "source": [
        "find_minimum_first_order(0.3)"
      ],
      "execution_count": 7,
      "outputs": [
        {
          "output_type": "stream",
          "text": [
            "2\n",
            "0.8\n",
            "1.184\n",
            "1.3431296\n",
            "1.3312877098434561\n",
            "1.3337386919133927\n",
            "1.3332521137333009\n",
            "Найденный локальный минимум: 1.3333495713163788\n",
            "Количество шагов: 8\n",
            "[0, 0.8, 1.184, 1.3431296, 1.3312877098434561, 1.3337386919133927, 1.3332521137333009, 1.3333495713163788] [2, 1.2319999999999998, 0.8560855040000002, 0.8150076886127855, 0.8148231754056736, 0.8148151435125781, 0.8148148280075258, 0.8148148153421633]\n"
          ],
          "name": "stdout"
        },
        {
          "output_type": "display_data",
          "data": {
            "image/png": "[encoded data removed]",
            "text/plain": [
              "<Figure size 432x288 with 1 Axes>"
            ]
          },
          "metadata": {
            "tags": [],
            "needs_background": "light"
          }
        }
      ]
    },
    {
      "cell_type": "code",
      "metadata": {
        "id": "6Xz1B6hyKlaI",
        "outputId": "017217ec-d50d-4916-cb4c-ecb3baaec13d",
        "colab": {
          "base_uri": "https://localhost:8080/",
          "height": 477
        }
      },
      "source": [
        "find_minimum_first_order(0.6)"
      ],
      "execution_count": 8,
      "outputs": [
        {
          "output_type": "stream",
          "text": [
            "2\n",
            "-0.3999999999999999\n",
            "-1.6479999999999995\n",
            "-10.491827199999996\n",
            "-233.8134008703875\n",
            "-99198.63713079707\n",
            "-17713002570.859837\n",
            "-5.647508281957411e+20\n",
            "-5.740982963059958e+41\n",
            "-5.932599368786045e+83\n"
          ],
          "name": "stdout"
        },
        {
          "output_type": "error",
          "ename": "OverflowError",
          "evalue": "ignored",
          "traceback": [
            "\u001b[0;31m---------------------------------------------------------------------------\u001b[0m",
            "\u001b[0;31mOverflowError\u001b[0m                             Traceback (most recent call last)",
            "\u001b[0;32m<ipython-input-8-17e1bed5c8ec>\u001b[0m in \u001b[0;36m<module>\u001b[0;34m()\u001b[0m\n\u001b[0;32m----> 1\u001b[0;31m \u001b[0mfind_minimum_first_order\u001b[0m\u001b[0;34m(\u001b[0m\u001b[0;36m0.6\u001b[0m\u001b[0;34m)\u001b[0m\u001b[0;34m\u001b[0m\u001b[0;34m\u001b[0m\u001b[0m\n\u001b[0m",
            "\u001b[0;32m<ipython-input-4-32f2c227cad2>\u001b[0m in \u001b[0;36mfind_minimum_first_order\u001b[0;34m(learning_rate, eps, max_iterations, anneal_learning_rate)\u001b[0m\n\u001b[1;32m     19\u001b[0m         \u001b[0mx_new\u001b[0m \u001b[0;34m=\u001b[0m \u001b[0mx_old\u001b[0m \u001b[0;34m-\u001b[0m \u001b[0mlearning_rate\u001b[0m \u001b[0;34m*\u001b[0m \u001b[0md_func\u001b[0m\u001b[0;34m(\u001b[0m\u001b[0mx_old\u001b[0m\u001b[0;34m)\u001b[0m\u001b[0;34m\u001b[0m\u001b[0;34m\u001b[0m\u001b[0m\n\u001b[1;32m     20\u001b[0m         \u001b[0mx_list\u001b[0m\u001b[0;34m.\u001b[0m\u001b[0mappend\u001b[0m\u001b[0;34m(\u001b[0m\u001b[0mx_new\u001b[0m\u001b[0;34m)\u001b[0m\u001b[0;34m\u001b[0m\u001b[0;34m\u001b[0m\u001b[0m\n\u001b[0;32m---> 21\u001b[0;31m         \u001b[0my_list\u001b[0m\u001b[0;34m.\u001b[0m\u001b[0mappend\u001b[0m\u001b[0;34m(\u001b[0m\u001b[0mfunc\u001b[0m\u001b[0;34m(\u001b[0m\u001b[0mx_new\u001b[0m\u001b[0;34m)\u001b[0m\u001b[0;34m)\u001b[0m\u001b[0;34m\u001b[0m\u001b[0;34m\u001b[0m\u001b[0m\n\u001b[0m\u001b[1;32m     22\u001b[0m         \u001b[0mi\u001b[0m \u001b[0;34m+=\u001b[0m \u001b[0;36m1\u001b[0m\u001b[0;34m\u001b[0m\u001b[0;34m\u001b[0m\u001b[0m\n\u001b[1;32m     23\u001b[0m     \u001b[0;31m# TODO:\u001b[0m\u001b[0;34m\u001b[0m\u001b[0;34m\u001b[0m\u001b[0;34m\u001b[0m\u001b[0m\n",
            "\u001b[0;32m<ipython-input-3-7895cf4ec6aa>\u001b[0m in \u001b[0;36m<lambda>\u001b[0;34m(x)\u001b[0m\n\u001b[1;32m      1\u001b[0m \u001b[0;31m# Наша функция f(x)\u001b[0m\u001b[0;34m\u001b[0m\u001b[0;34m\u001b[0m\u001b[0;34m\u001b[0m\u001b[0m\n\u001b[0;32m----> 2\u001b[0;31m \u001b[0mfunc\u001b[0m \u001b[0;34m=\u001b[0m \u001b[0;32mlambda\u001b[0m \u001b[0mx\u001b[0m\u001b[0;34m:\u001b[0m \u001b[0mx\u001b[0m \u001b[0;34m**\u001b[0m \u001b[0;36m3\u001b[0m \u001b[0;34m-\u001b[0m \u001b[0;36m2\u001b[0m\u001b[0;34m*\u001b[0m\u001b[0mx\u001b[0m \u001b[0;34m**\u001b[0m \u001b[0;36m2\u001b[0m \u001b[0;34m+\u001b[0m \u001b[0;36m2\u001b[0m\u001b[0;34m\u001b[0m\u001b[0;34m\u001b[0m\u001b[0m\n\u001b[0m\u001b[1;32m      3\u001b[0m \u001b[0;31m# Производная функции f(x)\u001b[0m\u001b[0;34m\u001b[0m\u001b[0;34m\u001b[0m\u001b[0;34m\u001b[0m\u001b[0m\n\u001b[1;32m      4\u001b[0m \u001b[0md_func\u001b[0m \u001b[0;34m=\u001b[0m \u001b[0;32mlambda\u001b[0m \u001b[0mx\u001b[0m\u001b[0;34m:\u001b[0m \u001b[0;36m3\u001b[0m \u001b[0;34m*\u001b[0m \u001b[0mx\u001b[0m \u001b[0;34m**\u001b[0m \u001b[0;36m2\u001b[0m \u001b[0;34m-\u001b[0m \u001b[0;36m4\u001b[0m \u001b[0;34m*\u001b[0m \u001b[0mx\u001b[0m\u001b[0;34m\u001b[0m\u001b[0;34m\u001b[0m\u001b[0m\n\u001b[1;32m      5\u001b[0m \u001b[0;31m# Сделаем массив из 1000 элементов от -3 до 3\u001b[0m\u001b[0;34m\u001b[0m\u001b[0;34m\u001b[0m\u001b[0;34m\u001b[0m\u001b[0m\n",
            "\u001b[0;31mOverflowError\u001b[0m: (34, 'Numerical result out of range')"
          ]
        }
      ]
    },
    {
      "cell_type": "markdown",
      "metadata": {
        "id": "gTTbzvS0KlaM"
      },
      "source": [
        "Ууупс, получили Overflow. Значит learning rate слишком большой. Хотя большой learning rate опасен возможностью overflow у него есть ряд преимуществ. Чем больше темп обучения, тем большие расстояния мы преодолеваем за один шаг и тем выше вероятность быстрее найти хорошее пространство локальных минимумов.\n",
        "\n",
        "Хорошая стратегия — начинать с достаточно большого шага (чтобы хорошо попутешествовать по функции), а потом постепенно его уменьшать, чтобы стабилизировать процесс обучения в каком-то локальном минимуме."
      ]
    },
    {
      "cell_type": "code",
      "metadata": {
        "id": "itCkyBdaKlaN",
        "outputId": "e905ce05-f5dd-471d-9786-8f47046c6f0f",
        "colab": {
          "base_uri": "https://localhost:8080/"
        }
      },
      "source": [
        "find_minimum_first_order(0.6, anneal_learning_rate=lambda lr, step: 0.3 * lr)"
      ],
      "execution_count": 9,
      "outputs": [
        {
          "output_type": "stream",
          "text": [
            "2\n",
            "1.28\n",
            "1.2910592\n",
            "1.2937117106658345\n",
            "1.2944590662624014\n",
            "1.2946791709613663\n",
            "Найденный локальный минимум: 1.294744839667743\n",
            "Количество шагов: 7\n",
            "[0, 1.28, 1.2910592, 1.2937117106658345, 1.2944590662624014, 1.2946791709613663, 1.294744839667743] [2, 0.8203520000000002, 0.818313471309998, 0.8178923598654655, 0.8177784849671359, 0.8177453484570028, 0.8177354974621776]\n"
          ],
          "name": "stdout"
        },
        {
          "output_type": "display_data",
          "data": {
            "image/png": "[encoded data removed]",
            "text/plain": [
              "<Figure size 432x288 with 1 Axes>"
            ]
          },
          "metadata": {
            "tags": [],
            "needs_background": "light"
          }
        }
      ]
    },
    {
      "cell_type": "markdown",
      "metadata": {
        "id": "pSMWbov7ZrSQ"
      },
      "source": [
        "# Описание алгоритмов градиентного спуска\n",
        "\n",
        "### SGD\n",
        "SGD - этот же самый gradient descent, что мы рассматривали ранее, вот только подсчёт градиентов производится не по всему множеству данных, а по отдельно взятому сэмплу. Очевидно, такая оптимизация будет очень шумной, что усложнит обучение модели. Поэтому обычно используют MiniBatch-SGD, где вместо одного сэмпла мы берём K. У такого подхода есть несколько плюсов:\n",
        "* ниже variance в сравнении с обычной SGD, что приводит к более стабильному процессу оптимизации\n",
        "* хорошо работает с DL библиотеками, так как теперь мы работаем с матрицами\n",
        "\n",
        "$$\n",
        "\\begin{eqnarray}\n",
        "g &=& \\frac{1}{m}\\nabla_w \\sum_i L(f(x_{i};w), y_{i}) \\\\\n",
        "w &=& w - \\eta \\times g\n",
        "\\end{eqnarray}\n",
        "$$\n",
        "\n",
        "### SGD with Momentum\n",
        "Попытаемся добавить SGD эффект инерции. Теперь, вместо того чтобы двигаться строго в направлении градиента в каждой точке, мы стараемся продолжить движение в том же направлении, в котором двигались ранее. То есть у нашей точки, которая спускается по многомерной поверхности, появляется импульс (momentum), который контролируется при помощи параметра $\\alpha$. Он определяет какую часть прошлого градиента мы хотим использовать на текущем шаге.\n",
        "$$\n",
        "\\begin{eqnarray}\n",
        "g_{t} &=& \\alpha g_{t-1} + \\eta \\frac{1}{m}\\nabla_w \\sum_i L(f(x_{i};w), y_{i}) \\\\\n",
        "w &=& w - \\eta \\times g\n",
        "\\end{eqnarray}\n",
        "$$\n",
        "\n",
        "## Адаптивные варианты градиентного спуска\n",
        "Во всех предыдущих алгоритмах у нас был фиксированный learning rate. Начиная с Adagrad у нас будет идти алгоритмы, которые подстраивают learning rate в зависимости от обучения. Они называются адаптивными вариантами градиентного спуска.\n",
        "\n",
        "Адаптивные варианты градиентного спуска подстраивает темп обучения таким образом, чтобы делать большие или маленькие обновления отдельных параметров. Например, может так сложиться, что некоторые веса близки к своим локальным минимумам, тогда по этим координатам нужно двигаться медленнее, а другие веса ещё только в середине, значит их можно менять гораздо быстрее. Подобные методы часты приводят к более обоснованной модели и сходятся гораздо быстрее.\n",
        "\n",
        "### Adagrad\n",
        "$$\n",
        "\\begin{eqnarray}\n",
        "g &=& \\frac{1}{m}\\nabla_w \\sum_i L(f(x_{i};w), y_{i}) \\\\\n",
        "s &=& s + diag(gg {T}) \\\\\n",
        "w &=& w - \\frac{\\eta}{\\sqrt{s+eps}} \\odot g\n",
        "\\end{eqnarray}\n",
        "$$\n",
        "Теперь нам не нужно сильно волноваться о правильном подборе $\\eta$, так как $s$ контролирует скорость обучения для каждого параметра.\n",
        "\n",
        "### RMSprop\n",
        "У Adagrad есть сильный минус. $s$ - всегда положительна и постоянно растёт во время обучения, что приводит к ситуации, когда у нас learning rate становится слишком маленький, и мы перестаём учиться. RMSprop исправляет эту проблему при помощи экспоненциального сглаживания\n",
        "$$\n",
        "\\begin{eqnarray}\n",
        "g &=& \\frac{1}{m}\\nabla_w \\sum_i L(f(x_{i};w), y_{i}) \\\\\n",
        "s &=& \\rho s + (1 - \\rho) diag(gg {T}) \\\\\n",
        "w &=& w - \\frac{\\eta}{\\sqrt{s+eps}} \\odot g\n",
        "\\end{eqnarray}\n",
        "$$\n",
        "\n",
        "### Adam\n",
        "Добавим не только моменты второго порядка, но и первого при обновлении параметров\n",
        "$$\n",
        "\\begin{eqnarray}\n",
        "g &=& \\frac{1}{m}\\nabla_w \\sum_i L(f(x_{i};w), y_{i}) \\\\\n",
        "m &=& \\beta_1 m + (1 - \\beta_1) g \\\\\n",
        "v &=& \\beta_2 v + (1 - \\beta_2) diag(gg {T}) \\\\\n",
        "\\hat{m} &=& \\frac{m}{1 - \\beta_1 {t}} \\\\\n",
        "\\hat{v} &=& \\frac{v}{1 - \\beta_2 {t}} \\\\\n",
        "w &=& w - \\frac{\\eta}{\\sqrt{\\hat{v} + \\epsilon}} \\odot \\hat{m}\n",
        "\\end{eqnarray}\n",
        "$$"
      ]
    },
    {
      "cell_type": "markdown",
      "metadata": {
        "id": "ZeCXawXsKlaX"
      },
      "source": [
        "# PyTorch Optimizer\n",
        "Очевидно, что для своих нейронных сетей не нужно каждый раз писать свой алгоритм и за вас уже сделаны все самые популярные методы. Их можно найти в **torch.optim**."
      ]
    },
    {
      "cell_type": "code",
      "metadata": {
        "id": "8oraXo9DKlaX",
        "outputId": "ff60489f-28b6-4c41-b7a7-c78aae8f390a",
        "colab": {
          "base_uri": "https://localhost:8080/"
        }
      },
      "source": [
        "dir(torch.optim)"
      ],
      "execution_count": 10,
      "outputs": [
        {
          "output_type": "execute_result",
          "data": {
            "text/plain": [
              "['ASGD',\n",
              " 'Adadelta',\n",
              " 'Adagrad',\n",
              " 'Adam',\n",
              " 'AdamW',\n",
              " 'Adamax',\n",
              " 'LBFGS',\n",
              " 'Optimizer',\n",
              " 'RMSprop',\n",
              " 'Rprop',\n",
              " 'SGD',\n",
              " 'SparseAdam',\n",
              " '__builtins__',\n",
              " '__cached__',\n",
              " '__doc__',\n",
              " '__file__',\n",
              " '__loader__',\n",
              " '__name__',\n",
              " '__package__',\n",
              " '__path__',\n",
              " '__spec__',\n",
              " 'lr_scheduler']"
            ]
          },
          "metadata": {
            "tags": []
          },
          "execution_count": 10
        }
      ]
    },
    {
      "cell_type": "markdown",
      "metadata": {
        "id": "-Xsq3M5VKlaa"
      },
      "source": [
        "Основные функции PyTorch Optimizer:\n",
        "* __step__ - обновление весов модели\n",
        "* __zero_grad__ - занулить веса модели (по умолчанию градиенты в PyTorch аккумулируются) ~ `for each param in params: param.grad = None`\n",
        "* __state_dict__ - получить текущее состояние Optimizer. Для адаптивных методов тут будут храниться аккумулированные квадраты градиентов"
      ]
    },
    {
      "cell_type": "markdown",
      "metadata": {
        "id": "bWG6WICUKlaa"
      },
      "source": [
        "## Как сделать instance PyTorch Optimizer?\n",
        "Достаточно передать параметры модели (их можно получить при помощи функции `parameters()`) и гипер-параметоры для метода оптимизации.\n",
        "\n",
        "Пример:"
      ]
    },
    {
      "cell_type": "code",
      "metadata": {
        "id": "KLLI3GbM89kb"
      },
      "source": [
        "?torch.optim.SGD"
      ],
      "execution_count": 11,
      "outputs": []
    },
    {
      "cell_type": "code",
      "metadata": {
        "id": "BDgqvgVJKlaa",
        "outputId": "254ca3c3-27d8-4325-d49c-256c2b8ff7a1",
        "colab": {
          "base_uri": "https://localhost:8080/"
        }
      },
      "source": [
        "model = torch.nn.Linear(1, 1)\n",
        "list(model.parameters()), torch.optim.SGD(model.parameters(), lr=0.01)"
      ],
      "execution_count": 12,
      "outputs": [
        {
          "output_type": "execute_result",
          "data": {
            "text/plain": [
              "([Parameter containing:\n",
              "  tensor([[-0.6891]], requires_grad=True), Parameter containing:\n",
              "  tensor([-0.1460], requires_grad=True)], SGD (\n",
              " Parameter Group 0\n",
              "     dampening: 0\n",
              "     lr: 0.01\n",
              "     momentum: 0\n",
              "     nesterov: False\n",
              "     weight_decay: 0\n",
              " ))"
            ]
          },
          "metadata": {
            "tags": []
          },
          "execution_count": 12
        }
      ]
    },
    {
      "cell_type": "markdown",
      "metadata": {
        "id": "7rpMKRptKlac"
      },
      "source": [
        "Или же вот так"
      ]
    },
    {
      "cell_type": "code",
      "metadata": {
        "id": "N6mSL4-CKlad",
        "outputId": "3f27e546-2758-4df9-ae0c-7d931e99e976",
        "colab": {
          "base_uri": "https://localhost:8080/",
          "height": 272
        }
      },
      "source": [
        "# Зададим PyTorch модули в качестве словаря\n",
        "model = torch.nn.ModuleDict({\n",
        "    'linear_1': torch.nn.Linear(1, 1),\n",
        "    'linear_2': torch.nn.Linear(2, 2)\n",
        "})\n",
        "torch.optim.SGD([\n",
        "    {'params': model['linear_1'].parameters(), 'lr': 0.3},\n",
        "    {'params': model['linear_2'].parameters()}\n",
        "], lr=0.5)"
      ],
      "execution_count": 13,
      "outputs": [
        {
          "output_type": "execute_result",
          "data": {
            "text/plain": [
              "SGD (\n",
              "Parameter Group 0\n",
              "    dampening: 0\n",
              "    lr: 0.3\n",
              "    momentum: 0\n",
              "    nesterov: False\n",
              "    weight_decay: 0\n",
              "\n",
              "Parameter Group 1\n",
              "    dampening: 0\n",
              "    lr: 0.5\n",
              "    momentum: 0\n",
              "    nesterov: False\n",
              "    weight_decay: 0\n",
              ")"
            ]
          },
          "metadata": {
            "tags": []
          },
          "execution_count": 13
        }
      ]
    },
    {
      "cell_type": "markdown",
      "metadata": {
        "id": "WQDxdh1GKlae"
      },
      "source": [
        "Последнее очень полезно для Transfer Learning, когда мы хотим, чтобы предобученная модель тренировалась с другим learning rate"
      ]
    },
    {
      "cell_type": "markdown",
      "metadata": {
        "id": "VZdZPXYHKlaf"
      },
      "source": [
        "## Делаем свой Optimizer\n",
        "Для того чтобы сделать свой Optimizer, не нужно писать свою имплементацию каждой из основных функций. Достаточно переопределить только одну из них - **step**.\n",
        "\n",
        "Попробуем реализовать несколько своих Optimizer. В качестве данных для модели воспользуемся `make_regression` из `sklearn`."
      ]
    },
    {
      "cell_type": "code",
      "metadata": {
        "id": "1b8flzKaKlaf"
      },
      "source": [
        "from sklearn.datasets import make_regression\n",
        "\n",
        "\n",
        "def seed_everything(seed: int):\n",
        "    # Зафиксировать seed.\n",
        "    # Это понадобится, чтобы убедиться\n",
        "    # в правильности работы нашего Optimizer\n",
        "    random.seed(seed)\n",
        "    os.environ[\"PYTHONHASHSEED\"] = str(seed)\n",
        "    np.random.seed(seed)\n",
        "    torch.manual_seed(seed)\n",
        "    torch.cuda.manual_seed(seed)\n",
        "    torch.backends.cudnn.deterministic = True\n",
        "\n",
        "\n",
        "# make_regression возвращает 2 переменные: данные и таргет для них\n",
        "# так как они возвращаётся как np.array,\n",
        "# вызовем для каждого из них команду torch.from_numpy\n",
        "X, y = map(\n",
        "    lambda x: torch.from_numpy(x).float(),\n",
        "    make_regression(n_samples=200, n_features=2)\n",
        ")\n",
        "\n",
        "\n",
        "def get_model():\n",
        "    # Таким образом, мы при каждом вызове будем получить\n",
        "    # модель с одной и той же инициализацией весов\n",
        "    seed_everything(13)\n",
        "    return torch.nn.Sequential(\n",
        "        torch.nn.Linear(2, 10),\n",
        "        torch.nn.Linear(10, 1)\n",
        "    )"
      ],
      "execution_count": 14,
      "outputs": []
    },
    {
      "cell_type": "markdown",
      "metadata": {
        "id": "NpeSZshxKlah"
      },
      "source": [
        "Как мы заметили ранее Optimizer работает с группами параметров. Поэтому нам необходимо делать отдельно update для каждой группы параметров (-> ещё один for loop)"
      ]
    },
    {
      "cell_type": "code",
      "metadata": {
        "id": "bYqWlLS7Klah"
      },
      "source": [
        "from torch.optim import Optimizer\n",
        "\n",
        "\n",
        "class InClassOptimizer(Optimizer):\n",
        "    def step(self):\n",
        "        \"\"\"Perform single optimization step.\"\"\"\n",
        "        with torch.no_grad(): # выключим градиенты\n",
        "            for group in self.param_groups:\n",
        "                self._group_step(group)\n",
        "\n",
        "    def _group_step(self, group):\n",
        "        # group ~ dict[str, ...]\n",
        "        \"\"\"\n",
        "        Private helper function to perform\n",
        "        single optimization step on model parameters.\n",
        "        \"\"\"\n",
        "        raise NotImplementedError()"
      ],
      "execution_count": 15,
      "outputs": []
    },
    {
      "cell_type": "code",
      "metadata": {
        "id": "TngP1dBKKlaq"
      },
      "source": [
        "class Adagrad(InClassOptimizer):\n",
        "    def __init__(self, params, lr=0.001, eps=1e-13):\n",
        "        defaults = dict(lr=lr, eps=eps)\n",
        "        super().__init__(params, defaults)\n",
        "\n",
        "    def _group_step(self, group):\n",
        "        # One group contains information about values passed in init\n",
        "        # and model parameters to update\n",
        "        lr = group['lr']\n",
        "        eps = group['eps']\n",
        "        for param in filter(lambda x: x.grad is not None, group['params']):\n",
        "            # TODO:\n",
        "            # Your code here\n",
        "            # --------------\n",
        "            # --------------\n",
        "            self._init_adagrad_buffer(param)\n",
        "            d_param = param.grad\n",
        "            buffer = self._get_adagrad_buffer(param)\n",
        "            buffer.add_(d_param ** 2)\n",
        "            d_param /= torch.sqrt(buffer + eps)\n",
        "            param.add_(d_param, alpha=-lr)\n",
        "\n",
        "    def _get_adagrad_buffer(self, param):\n",
        "        param_state = self.state[param]\n",
        "        return param_state['adagrad_buffer']\n",
        "        \n",
        "    def _init_adagrad_buffer(self, param):\n",
        "        param_state = self.state[param]\n",
        "        if 'adagrad_buffer' not in param_state:\n",
        "            param_state['adagrad_buffer'] = torch.zeros_like(param)"
      ],
      "execution_count": 16,
      "outputs": []
    },
    {
      "cell_type": "code",
      "metadata": {
        "id": "XhojHQMbraUQ"
      },
      "source": [
        "def check_optimizer(model, optim, num_iter):\n",
        "    loss = torch.nn.MSELoss()\n",
        "    for i in range(num_iter):\n",
        "        output = loss(model(X), y.unsqueeze(-1))\n",
        "        output.backward()\n",
        "        optim.step()\n",
        "        optim.zero_grad()\n",
        "        if i % 100 == 0:\n",
        "            print(f'Iteration {i} loss:', output.item())"
      ],
      "execution_count": 17,
      "outputs": []
    },
    {
      "cell_type": "markdown",
      "metadata": {
        "id": "cl7VOxBeo8qs"
      },
      "source": [
        "Проверим, что написанный Optimizer работает корректно"
      ]
    },
    {
      "cell_type": "code",
      "metadata": {
        "id": "wC70Q3ldKlar",
        "outputId": "3d4a4128-0458-40cb-ee5e-a037c7b84df8",
        "colab": {
          "base_uri": "https://localhost:8080/",
          "height": 187
        }
      },
      "source": [
        "model = get_model()\n",
        "optim = Adagrad(model.parameters(), lr=0.001)\n",
        "check_optimizer(model, optim, num_iter=1000)"
      ],
      "execution_count": 18,
      "outputs": [
        {
          "output_type": "stream",
          "text": [
            "Iteration 0 loss: 356.07476806640625\n",
            "Iteration 100 loss: 350.8880920410156\n",
            "Iteration 200 loss: 348.6490173339844\n",
            "Iteration 300 loss: 346.952392578125\n",
            "Iteration 400 loss: 345.5332336425781\n",
            "Iteration 500 loss: 344.2884826660156\n",
            "Iteration 600 loss: 343.1659851074219\n",
            "Iteration 700 loss: 342.13531494140625\n",
            "Iteration 800 loss: 341.1767272949219\n",
            "Iteration 900 loss: 340.27691650390625\n"
          ],
          "name": "stdout"
        }
      ]
    },
    {
      "cell_type": "code",
      "metadata": {
        "id": "UjOocoLXKlat",
        "outputId": "3e4dec02-0c48-4036-afd7-4089c8a0d5eb",
        "colab": {
          "base_uri": "https://localhost:8080/",
          "height": 187
        }
      },
      "source": [
        "model = get_model()\n",
        "optim = torch.optim.Adagrad(model.parameters(), lr=0.001)\n",
        "check_optimizer(model, optim, num_iter=1000)"
      ],
      "execution_count": 19,
      "outputs": [
        {
          "output_type": "stream",
          "text": [
            "Iteration 0 loss: 356.07476806640625\n",
            "Iteration 100 loss: 350.8880920410156\n",
            "Iteration 200 loss: 348.6490173339844\n",
            "Iteration 300 loss: 346.952392578125\n",
            "Iteration 400 loss: 345.5332336425781\n",
            "Iteration 500 loss: 344.2884826660156\n",
            "Iteration 600 loss: 343.1659851074219\n",
            "Iteration 700 loss: 342.13531494140625\n",
            "Iteration 800 loss: 341.1767272949219\n",
            "Iteration 900 loss: 340.27691650390625\n"
          ],
          "name": "stdout"
        }
      ]
    },
    {
      "cell_type": "markdown",
      "metadata": {
        "id": "BtbewdZwKlat"
      },
      "source": [
        "Почему такой большой лосс?\n",
        "\n",
        "Если посмотреть на optim.state, то сразу становится ясно, что квадраты градиентов очень большие, следовательно, апдейт будет совсем небольшой.\n",
        "\n",
        "Повысим learning rate и посмотрим на поведение модели."
      ]
    },
    {
      "cell_type": "code",
      "metadata": {
        "id": "7iPosGPrpY-3",
        "outputId": "97bed07f-c653-476e-96c2-b1b0e84f0757",
        "colab": {
          "base_uri": "https://localhost:8080/",
          "height": 187
        }
      },
      "source": [
        "model = get_model()\n",
        "optim = Adagrad(model.parameters(), lr=0.1)\n",
        "check_optimizer(model, optim, num_iter=1000)"
      ],
      "execution_count": 20,
      "outputs": [
        {
          "output_type": "stream",
          "text": [
            "Iteration 0 loss: 356.07476806640625\n",
            "Iteration 100 loss: 0.00011063159763580188\n",
            "Iteration 200 loss: 3.9855499380792025e-06\n",
            "Iteration 300 loss: 0.00012135761062381789\n",
            "Iteration 400 loss: 3.4319986298214644e-05\n",
            "Iteration 500 loss: 8.418089691986097e-07\n",
            "Iteration 600 loss: 1.8576349347654286e-08\n",
            "Iteration 700 loss: 2.0896313845941705e-10\n",
            "Iteration 800 loss: 6.323299522881243e-11\n",
            "Iteration 900 loss: 6.323299522881243e-11\n"
          ],
          "name": "stdout"
        }
      ]
    },
    {
      "cell_type": "markdown",
      "metadata": {
        "id": "Jyw8oX6vpaO9"
      },
      "source": [
        "`Какая мораль?`\n",
        "\n",
        "Даже если у вас есть методы с адаптивным градиентом спуском, полностью забывать о настройке learning rate не стоит."
      ]
    },
    {
      "cell_type": "markdown",
      "metadata": {
        "id": "zj75tkPRKlau"
      },
      "source": [
        "## Сравнение методов оптимизации"
      ]
    },
    {
      "cell_type": "code",
      "metadata": {
        "id": "hHAHgGdeKlau",
        "outputId": "6e6c3379-6e7f-427b-87a1-21d5446042e4",
        "colab": {
          "base_uri": "https://localhost:8080/",
          "height": 403,
          "referenced_widgets": [
            "54b2f0957f3646e8aa414f0a2c421408",
            "f2ae5355f9124182bb5a083a50a71340",
            "9e6a6f6816d94beb9d7c416e79692186",
            "f1f1fe73e82b4a818e45643658b0363f",
            "736f6f20a6ba44e9892472bc6c8b49a2",
            "051694d209784787ac586a1aaf579b50",
            "d77a3e00f59d438aa4f47ac37f5d6a21",
            "14eb69acd93c46bfbb2e6d5f19d2ccf1",
            "5645dceff19742808110277dd92cab0d",
            "c8f6f92b92cd4c98a4344b0c318e47b2",
            "5ff2448689c547eaba718cbd5562afaa",
            "dc9f6983330a4ad6b44cab3409226202",
            "ec4b208eb51945ab8596598d47b435a7",
            "199b67b03f9046238d7c5a85b4d2aa75",
            "d59013cf37d946afa0a735ad94eb8f24",
            "2504bdaa71324a2d854c6574f81aaf8d",
            "86aafe50eed942308e643a1deb95e2d2",
            "ba7e71c61afa4ae6a337edf7267d138e",
            "0277332c0bb64d668868687ec01b1286",
            "e85174b51f264743b4ed01ce95a5fffb",
            "9a6f7d504e7c41a98739d82592efa1d6",
            "e9215ea9370141a9849738b357a65a57",
            "187e799a9cce480fb97c432aeab2a6d6",
            "59adb45e3f6d44c3b816acffb88684ec",
            "2ac300153c1a4fbf84920d6633de82dd",
            "43e2b0b8b2434b1d878c0b742a33ec79",
            "3e6f702758394cfd9a839d840df5732d",
            "953135a636d044b18badd758889a8443",
            "9425e7d0bfd7473e9a9631dfd407504e",
            "c89bd1673e2146a68d68d6d5b5eb5fa8",
            "5b9eb134c8ed4f8db7b1f56112a8de16",
            "d40fc2e51b294924b3f79288ee9bc725"
          ]
        }
      },
      "source": [
        "from torch.utils.data import DataLoader\n",
        "import torchvision\n",
        "import torchvision.transforms as transforms\n",
        "\n",
        "\n",
        "# Train data\n",
        "fashion_mnist_train = torchvision.datasets.FashionMNIST(\n",
        "    './data',\n",
        "    download=True,\n",
        "    transform=transforms.Compose([transforms.ToTensor()])\n",
        ")\n",
        "train_dataloader = DataLoader(\n",
        "    fashion_mnist_train, batch_size=128, shuffle=True, num_workers=2\n",
        ")\n",
        "# Validation data\n",
        "fashion_mnist_eval = torchvision.datasets.FashionMNIST(\n",
        "    './data',\n",
        "    train=False,\n",
        "    download=True,\n",
        "    transform=transforms.Compose([transforms.ToTensor()])\n",
        ")\n",
        "eval_dataloader = DataLoader(\n",
        "    fashion_mnist_eval, batch_size=128, num_workers=2\n",
        ")"
      ],
      "execution_count": 21,
      "outputs": [
        {
          "output_type": "stream",
          "text": [
            "Downloading http://fashion-mnist.s3-website.eu-central-1.amazonaws.com/train-images-idx3-ubyte.gz to ./data/FashionMNIST/raw/train-images-idx3-ubyte.gz\n"
          ],
          "name": "stdout"
        },
        {
          "output_type": "display_data",
          "data": {
            "application/vnd.jupyter.widget-view+json": {
              "model_id": "54b2f0957f3646e8aa414f0a2c421408",
              "version_minor": 0,
              "version_major": 2
            },
            "text/plain": [
              "HBox(children=(FloatProgress(value=1.0, bar_style='info', max=1.0), HTML(value='')))"
            ]
          },
          "metadata": {
            "tags": []
          }
        },
        {
          "output_type": "stream",
          "text": [
            "Extracting ./data/FashionMNIST/raw/train-images-idx3-ubyte.gz to ./data/FashionMNIST/raw\n",
            "Downloading http://fashion-mnist.s3-website.eu-central-1.amazonaws.com/train-labels-idx1-ubyte.gz to ./data/FashionMNIST/raw/train-labels-idx1-ubyte.gz\n"
          ],
          "name": "stdout"
        },
        {
          "output_type": "display_data",
          "data": {
            "application/vnd.jupyter.widget-view+json": {
              "model_id": "5645dceff19742808110277dd92cab0d",
              "version_minor": 0,
              "version_major": 2
            },
            "text/plain": [
              "HBox(children=(FloatProgress(value=1.0, bar_style='info', max=1.0), HTML(value='')))"
            ]
          },
          "metadata": {
            "tags": []
          }
        },
        {
          "output_type": "stream",
          "text": [
            "Extracting ./data/FashionMNIST/raw/train-labels-idx1-ubyte.gz to ./data/FashionMNIST/raw\n",
            "Downloading http://fashion-mnist.s3-website.eu-central-1.amazonaws.com/t10k-images-idx3-ubyte.gz to ./data/FashionMNIST/raw/t10k-images-idx3-ubyte.gz\n"
          ],
          "name": "stdout"
        },
        {
          "output_type": "display_data",
          "data": {
            "application/vnd.jupyter.widget-view+json": {
              "model_id": "86aafe50eed942308e643a1deb95e2d2",
              "version_minor": 0,
              "version_major": 2
            },
            "text/plain": [
              "HBox(children=(FloatProgress(value=1.0, bar_style='info', max=1.0), HTML(value='')))"
            ]
          },
          "metadata": {
            "tags": []
          }
        },
        {
          "output_type": "stream",
          "text": [
            "Extracting ./data/FashionMNIST/raw/t10k-images-idx3-ubyte.gz to ./data/FashionMNIST/raw\n",
            "Downloading http://fashion-mnist.s3-website.eu-central-1.amazonaws.com/t10k-labels-idx1-ubyte.gz to ./data/FashionMNIST/raw/t10k-labels-idx1-ubyte.gz\n",
            "\n",
            "\n"
          ],
          "name": "stdout"
        },
        {
          "output_type": "display_data",
          "data": {
            "application/vnd.jupyter.widget-view+json": {
              "model_id": "2ac300153c1a4fbf84920d6633de82dd",
              "version_minor": 0,
              "version_major": 2
            },
            "text/plain": [
              "HBox(children=(FloatProgress(value=1.0, bar_style='info', max=1.0), HTML(value='')))"
            ]
          },
          "metadata": {
            "tags": []
          }
        },
        {
          "output_type": "stream",
          "text": [
            "Extracting ./data/FashionMNIST/raw/t10k-labels-idx1-ubyte.gz to ./data/FashionMNIST/raw\n",
            "Processing...\n",
            "Done!\n"
          ],
          "name": "stdout"
        },
        {
          "output_type": "stream",
          "text": [
            "/usr/local/lib/python3.6/dist-packages/torchvision/datasets/mnist.py:469: UserWarning: The given NumPy array is not writeable, and PyTorch does not support non-writeable tensors. This means you can write to the underlying (supposedly non-writeable) NumPy array using the tensor. You may want to copy the array to protect its data or make it writeable before converting it to a tensor. This type of warning will be suppressed for the rest of this program. (Triggered internally at  /pytorch/torch/csrc/utils/tensor_numpy.cpp:141.)\n",
            "  return torch.from_numpy(parsed.astype(m[2], copy=False)).view(*s)\n"
          ],
          "name": "stderr"
        }
      ]
    },
    {
      "cell_type": "code",
      "metadata": {
        "id": "Sr1MKTjBKlaw"
      },
      "source": [
        "from collections import defaultdict\n",
        "\n",
        "\n",
        "idx_to_label = defaultdict(lambda: None, {\n",
        "    0: \"T-shirt/Top\",\n",
        "    1: \"Trouser\",\n",
        "    2: \"Pullover\",\n",
        "    3: \"Dress\",\n",
        "    4: \"Coat\",\n",
        "    5: \"Sandal\",\n",
        "    6: \"Shirt\",\n",
        "    7: \"Sneaker\",\n",
        "    8: \"Bag\",\n",
        "    9: \"Ankle Boot\"\n",
        "})"
      ],
      "execution_count": 22,
      "outputs": []
    },
    {
      "cell_type": "code",
      "metadata": {
        "id": "_Qe43gMTDRz7"
      },
      "source": [
        "class Accuracy:\n",
        "    def __init__(self):\n",
        "        self._all_predictions = torch.LongTensor()\n",
        "        self._all_labels = torch.LongTensor()\n",
        "\n",
        "    def __call__(self, predictions, labels):\n",
        "        # predictions ~ (batch size)\n",
        "        # labels ~ (batch size)\n",
        "        self._all_predictions = torch.cat([\n",
        "            self._all_predictions,\n",
        "            predictions\n",
        "        ], dim=0)\n",
        "        self._all_labels = torch.cat([\n",
        "            self._all_labels,\n",
        "            labels\n",
        "        ], dim=0)\n",
        "\n",
        "    def get_metric(self, reset=False):\n",
        "        correct = (self._all_predictions == self._all_labels).long()\n",
        "        accuracy = correct.sum().float() / self._all_labels.size(0)\n",
        "        if reset:\n",
        "            self.reset()\n",
        "        return accuracy\n",
        "\n",
        "    def reset(self):\n",
        "        self._all_predictions = torch.LongTensor()\n",
        "        self._all_labels = torch.LongTensor()"
      ],
      "execution_count": 23,
      "outputs": []
    },
    {
      "cell_type": "markdown",
      "metadata": {
        "id": "Q6Mf1W49f2Fv"
      },
      "source": [
        "# Модель\n",
        "\n",
        "1. BatchNorm\n",
        "2. Conv(out=32, kernel=3) -> ReLu -> MaxPool(kernel=2)\n",
        "3. Conv(out=64, kernel=3) -> ReLu -> MaxPool(kernel=2)\n",
        "4. Flatten\n",
        "5. Linear(out=128)\n",
        "6. ReLu\n",
        "7. Dropout\n",
        "8. Linear(out=64)\n",
        "9. ReLu\n",
        "10. Linear(out=10)"
      ]
    },
    {
      "cell_type": "code",
      "metadata": {
        "id": "QkHmFRSkKlay"
      },
      "source": [
        "class SimpleNetEncoder(torch.nn.Module):\n",
        "    # Можно также сделать SimpleNetEncoder TODO\n",
        "    def __init__(self, dropout=0.4):\n",
        "        super().__init__()\n",
        "        # TODO:\n",
        "        # Your code here:\n",
        "        # --------------\n",
        "        # --------------\n",
        "        self.init_bn = torch.nn.BatchNorm2d(1)\n",
        "        self.conv1 = torch.nn.Conv2d(1, 32, 3) # (28 - (3 - 1)) = 26\n",
        "        self.relu = torch.nn.ReLU()\n",
        "        self.pool = torch.nn.MaxPool2d(2) # 13\n",
        "        self.conv2 = torch.nn.Conv2d(32, 64, 3) # 11; 5\n",
        "\n",
        "        self.fc1 = torch.nn.Linear(64 * 5 * 5, 128)\n",
        "        self.drop = torch.nn.Dropout(dropout)\n",
        "        self.fc2 = torch.nn.Linear(128, 64)\n",
        "        self.fc3 = torch.nn.Linear(64, 10)\n",
        "\n",
        "    def forward(self, x):\n",
        "        # x ~ (batch size, num channels, height, width)\n",
        "        # TODO:\n",
        "        # Your code here:\n",
        "        # --------------\n",
        "        # --------------\n",
        "        x = self.init_bn(x)\n",
        "        x = self.pool(self.relu(self.conv1(x)))\n",
        "        x = self.pool(self.relu(self.conv2(x)))\n",
        "        x = x.view(x.size(0), -1)\n",
        "        x = self.drop(self.relu(self.fc1(x)))\n",
        "        x = self.relu(self.fc2(x))\n",
        "        x = self.fc3(x)\n",
        "        return x\n",
        "\n",
        "\n",
        "class SimpleNet(torch.nn.Module):\n",
        "    def __init__(self, encoder):\n",
        "        super().__init__()\n",
        "        self._encoder = encoder\n",
        "        self._accuracy = Accuracy()\n",
        "\n",
        "    def forward(self, images, target=None):\n",
        "        # images ~ (batch size, num channels, height, width)\n",
        "        # target ~ (batch size)\n",
        "        # output ~ (batch size, num classes)\n",
        "        output = self._encoder(images)\n",
        "        output_dict = {'logits': output, 'probs': torch.softmax(output, dim=-1)}\n",
        "        output_dict['preds'] = torch.argmax(output_dict['probs'], dim=-1)\n",
        "        if target is not None:\n",
        "            log_softmax = torch.log_softmax(output, dim=-1)\n",
        "            output_dict['loss'] = F.nll_loss(log_softmax, target)\n",
        "            self._accuracy(\n",
        "                output_dict['preds'].cpu(),\n",
        "                target.cpu()\n",
        "            )\n",
        "        return output_dict\n",
        "\n",
        "    def decode(self, output_dict):\n",
        "        # output_dict ~ dict with torch.Tensors (output_dict from forward)\n",
        "        return [idx_to_label[int(x)] for x in output_dict['preds']]\n",
        "\n",
        "    def get_metrics(self, reset=False):\n",
        "        return {'accuracy': self._accuracy.get_metric(reset)}"
      ],
      "execution_count": 39,
      "outputs": []
    },
    {
      "cell_type": "code",
      "metadata": {
        "id": "EKZRgiLPKlaz"
      },
      "source": [
        "def train_epoch(\n",
        "    model,\n",
        "    data_loader,\n",
        "    optimizer,\n",
        "    return_losses=False,\n",
        "    device='cuda:0',\n",
        "):\n",
        "    model = model.train()\n",
        "    total_loss = 0\n",
        "    num_batches = 0\n",
        "    all_losses = []\n",
        "    with tqdm(total=len(data_loader), file=sys.stdout) as prbar:\n",
        "        for batch in data_loader:\n",
        "            # Move Batch to GPU\n",
        "            batch = [x.to(device=device) for x in batch]\n",
        "            output_dict = model(*batch)\n",
        "            loss = output_dict['loss']\n",
        "            # Update weights\n",
        "            loss.backward()\n",
        "            optimizer.step()\n",
        "            optimizer.zero_grad()\n",
        "            # Update descirption for tqdm\n",
        "            metrics = model.get_metrics()\n",
        "            prbar.set_description(\n",
        "                f\"Loss: {round(loss.item(), 4)} \"\n",
        "                f\"Accuracy: {round(metrics['accuracy'].item() * 100, 4)}\"\n",
        "            )\n",
        "            prbar.update(1)\n",
        "            total_loss += loss.item()\n",
        "            num_batches += 1\n",
        "            all_losses.append(loss.detach().item())\n",
        "    metrics = {'loss': total_loss / num_batches}\n",
        "    metrics.update(model.get_metrics(reset=True))\n",
        "    if return_losses:\n",
        "        return metrics, all_losses\n",
        "    else:\n",
        "        return metrics\n",
        "\n",
        "\n",
        "def validate(model, data_loader, device='cuda:0'):\n",
        "    model = model.eval()\n",
        "    total_loss = 0\n",
        "    num_batches = 0\n",
        "    with tqdm(total=len(data_loader), file=sys.stdout) as prbar:\n",
        "        for batch in data_loader:\n",
        "            batch = [x.to(device=device) for x in batch]\n",
        "            output_dict = model(*batch)\n",
        "            loss = output_dict['loss']\n",
        "            metrics = model.get_metrics()\n",
        "            prbar.set_description(\n",
        "                f\"Loss: {round(loss.item(), 4)} \"\n",
        "                f\"Accuracy: {round(metrics['accuracy'].item() * 100, 4)}\"\n",
        "            )\n",
        "            prbar.update(1)\n",
        "            total_loss += loss.item()\n",
        "            num_batches += 1\n",
        "    metrics = {'loss': total_loss / num_batches}\n",
        "    metrics.update(model.get_metrics(reset=True))\n",
        "    return metrics"
      ],
      "execution_count": 35,
      "outputs": []
    },
    {
      "cell_type": "code",
      "metadata": {
        "id": "JYsKPPGYiySX"
      },
      "source": [
        "from collections import namedtuple\n",
        "\n",
        "\n",
        "LossInfo = namedtuple(\n",
        "    'LossInfo', \n",
        "    ['full_train_losses', 'train_epoch_losses', 'eval_epoch_losses']\n",
        ")\n",
        "\n",
        "\n",
        "EPOCHS = 10\n",
        "LR = 0.001"
      ],
      "execution_count": 36,
      "outputs": []
    },
    {
      "cell_type": "code",
      "metadata": {
        "id": "KmOlOzBnKla2"
      },
      "source": [
        "def fit(\n",
        "    model,\n",
        "    epochs,\n",
        "    train_data_loader,\n",
        "    validation_data_loader,\n",
        "    optimizer\n",
        "):\n",
        "    all_train_losses = []\n",
        "    epoch_train_losses = []\n",
        "    epoch_eval_losses = []\n",
        "    for epoch in range(epochs):\n",
        "        # Train step\n",
        "        print(f\"Train Epoch: {epoch}\")\n",
        "        train_metrics, one_epoch_train_losses = train_epoch(\n",
        "            model=model,\n",
        "            data_loader=train_data_loader,\n",
        "            optimizer=optimizer,\n",
        "            return_losses=True,\n",
        "        )\n",
        "        # Save Train losses\n",
        "        all_train_losses.extend(one_epoch_train_losses)\n",
        "        epoch_train_losses.append(train_metrics['loss'])\n",
        "        # Eval step\n",
        "        print(f\"Validation Epoch: {epoch}\")\n",
        "        with torch.no_grad():\n",
        "            validation_metrics = validate(\n",
        "                model=model,\n",
        "                data_loader=validation_data_loader,\n",
        "            )\n",
        "        # Save eval losses\n",
        "        epoch_eval_losses.append(validation_metrics['loss'])\n",
        "    return LossInfo(all_train_losses, epoch_train_losses, epoch_eval_losses)"
      ],
      "execution_count": 37,
      "outputs": []
    },
    {
      "cell_type": "markdown",
      "metadata": {
        "id": "zFpxAPKzX58L"
      },
      "source": [
        "SGD"
      ]
    },
    {
      "cell_type": "code",
      "metadata": {
        "id": "Xe-wjJqEXzOY",
        "outputId": "02211ecc-e4de-48e8-f107-c9719a8dd5b2",
        "colab": {
          "base_uri": "https://localhost:8080/",
          "height": 697
        }
      },
      "source": [
        "model = SimpleNet(encoder=SimpleNetEncoder()).to(device='cuda:0')\n",
        "sgd_loss_info = fit(\n",
        "    model=model,\n",
        "    epochs=EPOCHS,\n",
        "    train_data_loader=train_dataloader,\n",
        "    validation_data_loader=eval_dataloader,\n",
        "    optimizer=torch.optim.SGD(model.parameters(), lr=LR)\n",
        ")"
      ],
      "execution_count": 40,
      "outputs": [
        {
          "output_type": "stream",
          "text": [
            "Train Epoch: 0\n",
            "Loss: 2.2902 Accuracy: 11.105: 100%|██████████| 469/469 [00:12<00:00, 38.94it/s]\n",
            "Validation Epoch: 0\n",
            "Loss: 2.3003 Accuracy: 18.41: 100%|██████████| 79/79 [00:01<00:00, 46.21it/s]\n",
            "Train Epoch: 1\n",
            "Loss: 2.2678 Accuracy: 16.84: 100%|██████████| 469/469 [00:12<00:00, 38.33it/s]\n",
            "Validation Epoch: 1\n",
            "Loss: 2.2654 Accuracy: 26.33: 100%|██████████| 79/79 [00:01<00:00, 47.61it/s]\n",
            "Train Epoch: 2\n",
            "Loss: 2.1941 Accuracy: 24.985: 100%|██████████| 469/469 [00:12<00:00, 39.07it/s]\n",
            "Validation Epoch: 2\n",
            "Loss: 2.2023 Accuracy: 38.47: 100%|██████████| 79/79 [00:01<00:00, 48.38it/s]\n",
            "Train Epoch: 3\n",
            "Loss: 2.0692 Accuracy: 35.72: 100%|██████████| 469/469 [00:12<00:00, 38.31it/s]\n",
            "Validation Epoch: 3\n",
            "Loss: 2.0433 Accuracy: 46.44: 100%|██████████| 79/79 [00:01<00:00, 47.17it/s]\n",
            "Train Epoch: 4\n",
            "Loss: 1.7017 Accuracy: 40.095: 100%|██████████| 469/469 [00:12<00:00, 38.57it/s]\n",
            "Validation Epoch: 4\n",
            "Loss: 1.6293 Accuracy: 45.34: 100%|██████████| 79/79 [00:01<00:00, 47.42it/s]\n",
            "Train Epoch: 5\n",
            "Loss: 1.3517 Accuracy: 46.7117: 100%|██████████| 469/469 [00:12<00:00, 37.73it/s]\n",
            "Validation Epoch: 5\n",
            "Loss: 1.1563 Accuracy: 57.84: 100%|██████████| 79/79 [00:01<00:00, 47.57it/s]\n",
            "Train Epoch: 6\n",
            "Loss: 1.101 Accuracy: 53.7117: 100%|██████████| 469/469 [00:12<00:00, 38.84it/s]\n",
            "Validation Epoch: 6\n",
            "Loss: 0.9193 Accuracy: 61.37: 100%|██████████| 79/79 [00:01<00:00, 48.00it/s]\n",
            "Train Epoch: 7\n",
            "Loss: 0.9055 Accuracy: 57.95: 100%|██████████| 469/469 [00:12<00:00, 38.75it/s]\n",
            "Validation Epoch: 7\n",
            "Loss: 0.7958 Accuracy: 63.75: 100%|██████████| 79/79 [00:01<00:00, 46.65it/s]\n",
            "Train Epoch: 8\n",
            "Loss: 1.2383 Accuracy: 61.5017: 100%|██████████| 469/469 [00:12<00:00, 38.52it/s]\n",
            "Validation Epoch: 8\n",
            "Loss: 0.7102 Accuracy: 66.07: 100%|██████████| 79/79 [00:01<00:00, 48.45it/s]\n",
            "Train Epoch: 9\n",
            "Loss: 0.7357 Accuracy: 63.9367: 100%|██████████| 469/469 [00:12<00:00, 38.33it/s]\n",
            "Validation Epoch: 9\n",
            "Loss: 0.6549 Accuracy: 68.28: 100%|██████████| 79/79 [00:01<00:00, 50.07it/s]\n"
          ],
          "name": "stdout"
        }
      ]
    },
    {
      "cell_type": "markdown",
      "metadata": {
        "id": "XNsHDEOuX_I8"
      },
      "source": [
        "SGD with Momentum"
      ]
    },
    {
      "cell_type": "code",
      "metadata": {
        "id": "WETr80TZXo1Z",
        "outputId": "ce6b7f0f-8617-4358-ca1d-74279e41a8c2",
        "colab": {
          "base_uri": "https://localhost:8080/",
          "height": 697
        }
      },
      "source": [
        "model = SimpleNet(encoder=SimpleNetEncoder()).to(device='cuda:0')\n",
        "sgd_momentum_loss_info = fit(\n",
        "    model=model,\n",
        "    epochs=EPOCHS,\n",
        "    train_data_loader=train_dataloader,\n",
        "    validation_data_loader=eval_dataloader,\n",
        "    optimizer=torch.optim.SGD(model.parameters(), momentum=0.9, lr=LR)\n",
        ")"
      ],
      "execution_count": 41,
      "outputs": [
        {
          "output_type": "stream",
          "text": [
            "Train Epoch: 0\n",
            "Loss: 1.1055 Accuracy: 34.62: 100%|██████████| 469/469 [00:12<00:00, 38.01it/s]\n",
            "Validation Epoch: 0\n",
            "Loss: 0.828 Accuracy: 66.53: 100%|██████████| 79/79 [00:01<00:00, 50.74it/s]\n",
            "Train Epoch: 1\n",
            "Loss: 0.8432 Accuracy: 69.2133: 100%|██████████| 469/469 [00:12<00:00, 38.85it/s]\n",
            "Validation Epoch: 1\n",
            "Loss: 0.512 Accuracy: 72.72: 100%|██████████| 79/79 [00:01<00:00, 48.39it/s]\n",
            "Train Epoch: 2\n",
            "Loss: 0.6862 Accuracy: 75.6017: 100%|██████████| 469/469 [00:11<00:00, 39.25it/s]\n",
            "Validation Epoch: 2\n",
            "Loss: 0.4332 Accuracy: 78.59: 100%|██████████| 79/79 [00:01<00:00, 50.36it/s]\n",
            "Train Epoch: 3\n",
            "Loss: 0.5034 Accuracy: 78.0617: 100%|██████████| 469/469 [00:11<00:00, 39.39it/s]\n",
            "Validation Epoch: 3\n",
            "Loss: 0.3707 Accuracy: 80.33: 100%|██████████| 79/79 [00:01<00:00, 50.40it/s]\n",
            "Train Epoch: 4\n",
            "Loss: 0.8496 Accuracy: 79.6333: 100%|██████████| 469/469 [00:11<00:00, 39.12it/s]\n",
            "Validation Epoch: 4\n",
            "Loss: 0.2941 Accuracy: 81.37: 100%|██████████| 79/79 [00:01<00:00, 49.48it/s]\n",
            "Train Epoch: 5\n",
            "Loss: 0.3363 Accuracy: 81.0617: 100%|██████████| 469/469 [00:12<00:00, 38.90it/s]\n",
            "Validation Epoch: 5\n",
            "Loss: 0.2795 Accuracy: 81.88: 100%|██████████| 79/79 [00:01<00:00, 48.92it/s]\n",
            "Train Epoch: 6\n",
            "Loss: 0.3948 Accuracy: 82.0833: 100%|██████████| 469/469 [00:12<00:00, 38.76it/s]\n",
            "Validation Epoch: 6\n",
            "Loss: 0.2822 Accuracy: 83.57: 100%|██████████| 79/79 [00:01<00:00, 49.24it/s]\n",
            "Train Epoch: 7\n",
            "Loss: 0.4969 Accuracy: 82.9883: 100%|██████████| 469/469 [00:12<00:00, 38.65it/s]\n",
            "Validation Epoch: 7\n",
            "Loss: 0.292 Accuracy: 83.75: 100%|██████████| 79/79 [00:01<00:00, 49.10it/s]\n",
            "Train Epoch: 8\n",
            "Loss: 0.5508 Accuracy: 83.7533: 100%|██████████| 469/469 [00:12<00:00, 38.33it/s]\n",
            "Validation Epoch: 8\n",
            "Loss: 0.1892 Accuracy: 84.75: 100%|██████████| 79/79 [00:01<00:00, 47.87it/s]\n",
            "Train Epoch: 9\n",
            "Loss: 0.4806 Accuracy: 84.3383: 100%|██████████| 469/469 [00:12<00:00, 38.45it/s]\n",
            "Validation Epoch: 9\n",
            "Loss: 0.2511 Accuracy: 85.48: 100%|██████████| 79/79 [00:01<00:00, 49.11it/s]\n"
          ],
          "name": "stdout"
        }
      ]
    },
    {
      "cell_type": "markdown",
      "metadata": {
        "id": "ra4g-7ztvBC3"
      },
      "source": [
        "RMSprop"
      ]
    },
    {
      "cell_type": "code",
      "metadata": {
        "id": "pP7tS4gsu_7o",
        "outputId": "c782256d-be03-4b8f-c097-ee3cef9c8c39",
        "colab": {
          "base_uri": "https://localhost:8080/",
          "height": 697
        }
      },
      "source": [
        "model = SimpleNet(encoder=SimpleNetEncoder()).to(device='cuda:0')\n",
        "rmsprop_loss_info = fit(\n",
        "    model=model,\n",
        "    epochs=EPOCHS,\n",
        "    train_data_loader=train_dataloader,\n",
        "    validation_data_loader=eval_dataloader,\n",
        "    optimizer=torch.optim.RMSprop(model.parameters(), lr=LR)\n",
        ")"
      ],
      "execution_count": 42,
      "outputs": [
        {
          "output_type": "stream",
          "text": [
            "Train Epoch: 0\n",
            "Loss: 0.4855 Accuracy: 76.19: 100%|██████████| 469/469 [00:12<00:00, 38.60it/s]\n",
            "Validation Epoch: 0\n",
            "Loss: 0.2006 Accuracy: 84.26: 100%|██████████| 79/79 [00:01<00:00, 48.43it/s]\n",
            "Train Epoch: 1\n",
            "Loss: 0.3294 Accuracy: 84.8617: 100%|██████████| 469/469 [00:12<00:00, 38.55it/s]\n",
            "Validation Epoch: 1\n",
            "Loss: 0.1737 Accuracy: 87.05: 100%|██████████| 79/79 [00:01<00:00, 48.45it/s]\n",
            "Train Epoch: 2\n",
            "Loss: 0.187 Accuracy: 86.8583: 100%|██████████| 469/469 [00:12<00:00, 38.22it/s]\n",
            "Validation Epoch: 2\n",
            "Loss: 0.178 Accuracy: 88.26: 100%|██████████| 79/79 [00:01<00:00, 47.35it/s]\n",
            "Train Epoch: 3\n",
            "Loss: 0.3402 Accuracy: 88.0383: 100%|██████████| 469/469 [00:12<00:00, 37.38it/s]\n",
            "Validation Epoch: 3\n",
            "Loss: 0.0642 Accuracy: 88.9: 100%|██████████| 79/79 [00:01<00:00, 49.46it/s]\n",
            "Train Epoch: 4\n",
            "Loss: 0.2901 Accuracy: 89.0267: 100%|██████████| 469/469 [00:12<00:00, 38.77it/s]\n",
            "Validation Epoch: 4\n",
            "Loss: 0.1801 Accuracy: 88.46: 100%|██████████| 79/79 [00:01<00:00, 49.87it/s]\n",
            "Train Epoch: 5\n",
            "Loss: 0.421 Accuracy: 89.47: 100%|██████████| 469/469 [00:11<00:00, 39.10it/s]\n",
            "Validation Epoch: 5\n",
            "Loss: 0.1912 Accuracy: 89.64: 100%|██████████| 79/79 [00:01<00:00, 49.15it/s]\n",
            "Train Epoch: 6\n",
            "Loss: 0.2757 Accuracy: 90.0017: 100%|██████████| 469/469 [00:12<00:00, 38.83it/s]\n",
            "Validation Epoch: 6\n",
            "Loss: 0.0814 Accuracy: 90.14: 100%|██████████| 79/79 [00:01<00:00, 49.21it/s]\n",
            "Train Epoch: 7\n",
            "Loss: 0.2935 Accuracy: 90.4533: 100%|██████████| 469/469 [00:12<00:00, 38.67it/s]\n",
            "Validation Epoch: 7\n",
            "Loss: 0.1203 Accuracy: 90.01: 100%|██████████| 79/79 [00:01<00:00, 48.76it/s]\n",
            "Train Epoch: 8\n",
            "Loss: 0.271 Accuracy: 90.7767: 100%|██████████| 469/469 [00:12<00:00, 39.03it/s]\n",
            "Validation Epoch: 8\n",
            "Loss: 0.2207 Accuracy: 89.76: 100%|██████████| 79/79 [00:01<00:00, 49.30it/s]\n",
            "Train Epoch: 9\n",
            "Loss: 0.2733 Accuracy: 91.22: 100%|██████████| 469/469 [00:12<00:00, 38.42it/s]\n",
            "Validation Epoch: 9\n",
            "Loss: 0.1784 Accuracy: 90.2: 100%|██████████| 79/79 [00:01<00:00, 48.89it/s]\n"
          ],
          "name": "stdout"
        }
      ]
    },
    {
      "cell_type": "markdown",
      "metadata": {
        "id": "Y1-4TFPaYNFP"
      },
      "source": [
        "Adam"
      ]
    },
    {
      "cell_type": "code",
      "metadata": {
        "id": "AgDi8etcYKxL",
        "outputId": "091490fa-e633-44cb-950f-8a501373daeb",
        "colab": {
          "base_uri": "https://localhost:8080/",
          "height": 697
        }
      },
      "source": [
        "model = SimpleNet(encoder=SimpleNetEncoder()).to(device='cuda:0')\n",
        "adam_loss_info = fit(\n",
        "    model=model,\n",
        "    epochs=EPOCHS,\n",
        "    train_data_loader=train_dataloader,\n",
        "    validation_data_loader=eval_dataloader,\n",
        "    optimizer=torch.optim.Adam(model.parameters(), lr=LR)\n",
        ")"
      ],
      "execution_count": 43,
      "outputs": [
        {
          "output_type": "stream",
          "text": [
            "Train Epoch: 0\n",
            "Loss: 0.4335 Accuracy: 76.975: 100%|██████████| 469/469 [00:12<00:00, 37.59it/s]\n",
            "Validation Epoch: 0\n",
            "Loss: 0.2363 Accuracy: 84.57: 100%|██████████| 79/79 [00:01<00:00, 47.73it/s]\n",
            "Train Epoch: 1\n",
            "Loss: 0.2615 Accuracy: 85.725: 100%|██████████| 469/469 [00:12<00:00, 38.38it/s]\n",
            "Validation Epoch: 1\n",
            "Loss: 0.2121 Accuracy: 87.78: 100%|██████████| 79/79 [00:01<00:00, 49.69it/s]\n",
            "Train Epoch: 2\n",
            "Loss: 0.4289 Accuracy: 87.6267: 100%|██████████| 469/469 [00:12<00:00, 37.85it/s]\n",
            "Validation Epoch: 2\n",
            "Loss: 0.1285 Accuracy: 88.74: 100%|██████████| 79/79 [00:01<00:00, 48.69it/s]\n",
            "Train Epoch: 3\n",
            "Loss: 0.3452 Accuracy: 89.0933: 100%|██████████| 469/469 [00:12<00:00, 37.71it/s]\n",
            "Validation Epoch: 3\n",
            "Loss: 0.1767 Accuracy: 89.01: 100%|██████████| 79/79 [00:01<00:00, 48.48it/s]\n",
            "Train Epoch: 4\n",
            "Loss: 0.3761 Accuracy: 89.8033: 100%|██████████| 469/469 [00:12<00:00, 37.96it/s]\n",
            "Validation Epoch: 4\n",
            "Loss: 0.1631 Accuracy: 89.75: 100%|██████████| 79/79 [00:01<00:00, 47.91it/s]\n",
            "Train Epoch: 5\n",
            "Loss: 0.3431 Accuracy: 90.365: 100%|██████████| 469/469 [00:12<00:00, 38.04it/s]\n",
            "Validation Epoch: 5\n",
            "Loss: 0.2091 Accuracy: 89.7: 100%|██████████| 79/79 [00:01<00:00, 50.21it/s]\n",
            "Train Epoch: 6\n",
            "Loss: 0.2275 Accuracy: 90.855: 100%|██████████| 469/469 [00:12<00:00, 37.48it/s]\n",
            "Validation Epoch: 6\n",
            "Loss: 0.2162 Accuracy: 90.15: 100%|██████████| 79/79 [00:01<00:00, 48.28it/s]\n",
            "Train Epoch: 7\n",
            "Loss: 0.1302 Accuracy: 91.5833: 100%|██████████| 469/469 [00:12<00:00, 38.25it/s]\n",
            "Validation Epoch: 7\n",
            "Loss: 0.2329 Accuracy: 90.64: 100%|██████████| 79/79 [00:01<00:00, 49.76it/s]\n",
            "Train Epoch: 8\n",
            "Loss: 0.175 Accuracy: 91.9483: 100%|██████████| 469/469 [00:12<00:00, 38.60it/s]\n",
            "Validation Epoch: 8\n",
            "Loss: 0.1473 Accuracy: 90.95: 100%|██████████| 79/79 [00:01<00:00, 48.98it/s]\n",
            "Train Epoch: 9\n",
            "Loss: 0.1325 Accuracy: 92.41: 100%|██████████| 469/469 [00:11<00:00, 39.19it/s]\n",
            "Validation Epoch: 9\n",
            "Loss: 0.1274 Accuracy: 90.81: 100%|██████████| 79/79 [00:01<00:00, 48.91it/s]\n"
          ],
          "name": "stdout"
        }
      ]
    },
    {
      "cell_type": "code",
      "metadata": {
        "id": "OODJyp5udUmk",
        "outputId": "32f38f67-a4fd-4ba3-e049-dfe88fb2c37e",
        "colab": {
          "base_uri": "https://localhost:8080/",
          "height": 265
        }
      },
      "source": [
        "plt.plot(\n",
        "    np.arange(len(train_dataloader) * 10),\n",
        "    sgd_loss_info.full_train_losses,\n",
        "    label='SGD', c='grey'\n",
        ")\n",
        "plt.plot(\n",
        "    np.arange(len(train_dataloader) * 10),\n",
        "    sgd_momentum_loss_info.full_train_losses,\n",
        "    label='SGD Momentum', c='blue'\n",
        ")\n",
        "plt.plot(\n",
        "    np.arange(len(train_dataloader) * 10),\n",
        "    rmsprop_loss_info.full_train_losses,\n",
        "    label='RMSProp', c='green'\n",
        ")\n",
        "plt.plot(\n",
        "    np.arange(len(train_dataloader) * 10),\n",
        "    adam_loss_info.full_train_losses,\n",
        "    label='Adam', c='red'\n",
        ")\n",
        "plt.legend()\n",
        "plt.show()"
      ],
      "execution_count": 44,
      "outputs": [
        {
          "output_type": "display_data",
          "data": {
            "image/png": "[encoded data removed]",
            "text/plain": [
              "<Figure size 432x288 with 1 Axes>"
            ]
          },
          "metadata": {
            "tags": [],
            "needs_background": "light"
          }
        }
      ]
    },
    {
      "cell_type": "code",
      "metadata": {
        "id": "IjrXHabteGSK",
        "outputId": "2aafc0a2-1abc-4e12-9440-c1767e065d4c",
        "colab": {
          "base_uri": "https://localhost:8080/",
          "height": 265
        }
      },
      "source": [
        "plt.plot(\n",
        "    np.arange(10), sgd_loss_info.eval_epoch_losses,\n",
        "    label='SGD', c='grey'\n",
        ")\n",
        "plt.plot(\n",
        "    np.arange(10), sgd_momentum_loss_info.eval_epoch_losses,\n",
        "    label='SGD Momentum', c='blue'\n",
        ")\n",
        "plt.plot(\n",
        "    np.arange(10), rmsprop_loss_info.eval_epoch_losses,\n",
        "    label='RMSprop', c='green'\n",
        ")\n",
        "plt.plot(\n",
        "    np.arange(10), adam_loss_info.eval_epoch_losses,\n",
        "    label='Adam', c='red'\n",
        ")\n",
        "plt.legend()\n",
        "plt.show()"
      ],
      "execution_count": 45,
      "outputs": [
        {
          "output_type": "display_data",
          "data": {
            "image/png": "[encoded data removed]",
            "text/plain": [
              "<Figure size 432x288 with 1 Axes>"
            ]
          },
          "metadata": {
            "tags": [],
            "needs_background": "light"
          }
        }
      ]
    },
    {
      "cell_type": "markdown",
      "metadata": {
        "id": "9ixonnU2Kla3"
      },
      "source": [
        "## Оптимизация второго порядка\n",
        "Теперь вернёмся немного назад к функции $f(x)$ и рассмотрим оптимизацию второго порядка. Вместо того чтобы приближать функцию в текущей точке линейно можно это делать при помощи квадратов."
      ]
    },
    {
      "cell_type": "code",
      "metadata": {
        "id": "38Klo8Bp1w33"
      },
      "source": [
        "d_2_func = lambda x: 6 * x - 4"
      ],
      "execution_count": null,
      "outputs": []
    },
    {
      "cell_type": "code",
      "metadata": {
        "id": "PlCaMEIgKla3"
      },
      "source": [
        "def find_minimum_second_order(eps=1e-4, max_iterations=1000):\n",
        "    i = 0\n",
        "    x_old, x_new = 0, 2\n",
        "    x_list, y_list = [x_old], [func(x_old)]\n",
        "    while abs(x_new - x_old) > eps and i < max_iterations:\n",
        "        # Обновим x_old\n",
        "        x_old = x_new\n",
        "        # Сделаем один шаг gradient descent со 2 порядком градиентов\n",
        "        x_new = x_old - d_func(x_old) / d_2_func(x_old)\n",
        "        # Сохраним значения для визуализации\n",
        "        x_list.append(x_new)\n",
        "        y_list.append(func(x_new))\n",
        "        i += 1\n",
        "    print(\"Найденный локальный минимум:\", x_new)\n",
        "    print(\"Количество шагов:\", len(x_list))\n",
        "    # Визуализируем сходимость\n",
        "    plt.figure(figsize=[6, 4])\n",
        "    plt.ylim([-3, 8])\n",
        "    plt.scatter(x_list, y_list, c=\"r\", edgecolors=\"k\")\n",
        "    plt.plot(x_list, y_list, c=\"r\")\n",
        "    plt.plot(x, func(x), c=\"b\")\n",
        "    plt.title(\"Descent trajectory\")\n",
        "    plt.show()"
      ],
      "execution_count": null,
      "outputs": []
    },
    {
      "cell_type": "code",
      "metadata": {
        "id": "OJChBOk3Kla5"
      },
      "source": [
        "find_minimum_second_order()"
      ],
      "execution_count": null,
      "outputs": []
    },
    {
      "cell_type": "markdown",
      "metadata": {
        "id": "idTHdfv7Kla6"
      },
      "source": [
        "В итоге мы пришли к минимуму гораздо быстрее. И если же методы второго порядка такие крутые и быстрые, то почему их не используют в нейронных сетях? Для ответа на этот вопрос сначала рассмотрим плюсы и минусы данного подхода.\n",
        "\n",
        "Плюсы методов второго порядка:\n",
        "* Быстрее, чем методы оптимизации первого порядка\n",
        "* Нет необходимости настраивать learning_rate\n",
        "\n",
        "Можете ли вы предположить минусы методов оптимизации второго порядка или же просто методов Ньютона?\n",
        "\n",
        "Ответ:\n",
        "* Сложность вычисления градиента второго порядка\n",
        "* В многомерном случае необходимо хранить матрицу размерности N x N\n",
        "\n",
        "Проблема с памятью наиболее острая, так как современные нейронные сети имеют миллионы параметров и хранить матрицу миллион на миллион очень сложно."
      ]
    },
    {
      "cell_type": "markdown",
      "metadata": {
        "id": "xEcFfzhaKla6"
      },
      "source": [
        "## Зачем мы вообще начали разговор о 2 порядке?\n",
        "Ответ в том, что методы с адаптивными градиентным являются аппроксимацией методов 2 порядка. Отсюда становится понятно, почему мы делим на матрицу квадратов в Adagrad и других его модификациях\n",
        "$$\n",
        "\\mathbb{E}[gg {T}] = \\mathbb{E}[H(x)]\n",
        "$$\n",
        "Здесь:\n",
        "* $gg {T}$ - квадратная матрица квадратов градиентов\n",
        "* $\\mathbb{E}[H(x)]$ - ожидаемое значение Гессиана (матрица градиентов 2 порядка). В адаптивном градиенте разница лишь в том, что мы берём $\\sqrt{diag(gg {T})}$, так как $gg {T}$ занимает слишком много места."
      ]
    }
  ]
}